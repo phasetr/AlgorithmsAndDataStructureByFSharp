{
 "cells": [
  {
   "cell_type": "markdown",
   "id": "reliable-organic",
   "metadata": {},
   "source": [
    "# Largest prime factor\n",
    "- [URL](https://projecteuler.net/problem=3)"
   ]
  },
  {
   "cell_type": "markdown",
   "id": "derived-zambia",
   "metadata": {},
   "source": [
    "## バージョン確認"
   ]
  },
  {
   "cell_type": "code",
   "execution_count": 1,
   "id": "incorporated-microphone",
   "metadata": {},
   "outputs": [
    {
     "name": "stdout",
     "output_type": "stream",
     "text": [
      "3.8.8 (tags/v3.8.8:024d805, Feb 19 2021, 13:18:16) [MSC v.1928 64 bit (AMD64)]\n"
     ]
    }
   ],
   "source": [
    "import sys\n",
    "print(sys.version)"
   ]
  },
  {
   "cell_type": "markdown",
   "id": "quarterly-coverage",
   "metadata": {
    "lines_to_next_cell": 0
   },
   "source": [
    "## Problem 3\n",
    "The prime factors of 13195 are 5, 7, 13 and 29.\n",
    "\n",
    "What is the largest prime factor of the number 600851475143?\n",
    "\n",
    "13195の素因数は5, 7, 13, 29である.\n",
    "では600851475143の最大の素因数は何か?\n",
    "\n",
    "## 方針\n",
    "### 方針1\n",
    "#### 考える数"
   ]
  },
  {
   "cell_type": "code",
   "execution_count": 2,
   "id": "temporal-image",
   "metadata": {},
   "outputs": [],
   "source": [
    "now_number = 600851475143"
   ]
  },
  {
   "cell_type": "markdown",
   "id": "framed-elements",
   "metadata": {
    "lines_to_next_cell": 0
   },
   "source": [
    "#### 素数かどうかの判定"
   ]
  },
  {
   "cell_type": "code",
   "execution_count": 3,
   "id": "waiting-stability",
   "metadata": {},
   "outputs": [],
   "source": [
    "def is_prime(n):\n",
    "    # 2 のときを潰す\n",
    "    if n == 2:\n",
    "        return True\n",
    "\n",
    "    # 偶数なら不適\n",
    "    if n % 2 == 0:\n",
    "        return False\n",
    "\n",
    "    # 以下奇数のみ\n",
    "    # 3 以上の奇数のリストでループを回す\n",
    "    for i in [x for x in range(3, n) if x % 2 != 0]:\n",
    "        if n % i == 0:\n",
    "            # n 自分自身より小さい数で割り切れるなら合成数\n",
    "            return False\n",
    "\n",
    "    # 上の処理で引っかからなかったなら素数\n",
    "    return True"
   ]
  },
  {
   "cell_type": "markdown",
   "id": "unknown-vampire",
   "metadata": {
    "lines_to_next_cell": 0
   },
   "source": [
    "##### テスト"
   ]
  },
  {
   "cell_type": "code",
   "execution_count": 4,
   "id": "exotic-ecuador",
   "metadata": {},
   "outputs": [
    {
     "name": "stdout",
     "output_type": "stream",
     "text": [
      "True\n",
      "True\n",
      "True\n",
      "True\n",
      "True\n",
      "True\n"
     ]
    }
   ],
   "source": [
    "print(is_prime(2) == True)\n",
    "print(is_prime(3) == True)\n",
    "print(is_prime(4) == False)\n",
    "print(is_prime(5) == True)\n",
    "print(is_prime(7) == True)\n",
    "print(is_prime(9) == False)"
   ]
  },
  {
   "cell_type": "markdown",
   "id": "endless-landscape",
   "metadata": {
    "lines_to_next_cell": 0
   },
   "source": [
    "#### ある数よりも小さい素数のリスト作成"
   ]
  },
  {
   "cell_type": "code",
   "execution_count": 5,
   "id": "welcome-commodity",
   "metadata": {},
   "outputs": [],
   "source": [
    "def get_primes_less_than(n):\n",
    "    return [x for x in range(2, n+1) if is_prime(x)]"
   ]
  },
  {
   "cell_type": "markdown",
   "id": "clean-kentucky",
   "metadata": {
    "lines_to_next_cell": 0
   },
   "source": [
    "##### テスト"
   ]
  },
  {
   "cell_type": "code",
   "execution_count": 6,
   "id": "material-multimedia",
   "metadata": {},
   "outputs": [
    {
     "name": "stdout",
     "output_type": "stream",
     "text": [
      "True\n",
      "True\n",
      "True\n",
      "True\n",
      "True\n"
     ]
    }
   ],
   "source": [
    "print(get_primes_less_than(2) == [2])\n",
    "print(get_primes_less_than(3) == [2,3])\n",
    "print(get_primes_less_than(4) == [2,3])\n",
    "print(get_primes_less_than(5) == [2,3,5])\n",
    "print(get_primes_less_than(15) == [2,3,5,7,11,13])"
   ]
  },
  {
   "cell_type": "markdown",
   "id": "educational-allah",
   "metadata": {
    "lines_to_next_cell": 0
   },
   "source": [
    "#### ある数 n の素因数分解の結果を返す辞書"
   ]
  },
  {
   "cell_type": "code",
   "execution_count": 7,
   "id": "absent-rebound",
   "metadata": {
    "lines_to_next_cell": 0
   },
   "outputs": [],
   "source": [
    "def factorize(n):\n",
    "    factorization = {}\n",
    "\n",
    "    if n == 2:\n",
    "        return {2:1}\n",
    "    elif n == 3:\n",
    "        return {2:0, 3:1}\n",
    "    elif n == 4:\n",
    "        return {2:2, 3:0}\n",
    "\n",
    "    primes = get_primes_less_than(n)\n",
    "    for p in primes:\n",
    "        # 初期化\n",
    "        factorization[p] = 0\n",
    "        tmp_num = n\n",
    "        while(tmp_num % p == 0):\n",
    "            factorization[p] = factorization[p] + 1\n",
    "            tmp_num = tmp_num / p\n",
    "\n",
    "    return factorization"
   ]
  },
  {
   "cell_type": "markdown",
   "id": "empirical-paraguay",
   "metadata": {
    "lines_to_next_cell": 0
   },
   "source": [
    "##### テスト"
   ]
  },
  {
   "cell_type": "code",
   "execution_count": 8,
   "id": "coastal-showcase",
   "metadata": {},
   "outputs": [
    {
     "name": "stdout",
     "output_type": "stream",
     "text": [
      "True\n",
      "True\n",
      "True\n",
      "True\n",
      "True\n",
      "True\n",
      "True\n"
     ]
    }
   ],
   "source": [
    "print(factorize(2) == {2: 1})\n",
    "print(factorize(3) == {2: 0, 3: 1})\n",
    "print(factorize(4) == {2: 2, 3: 0})\n",
    "print(factorize(5) == {2: 0, 3: 0, 5: 1})\n",
    "print(factorize(6) == {2: 1, 3: 1, 5: 0})\n",
    "print(factorize(6) == {2: 1, 3: 1, 5: 0})\n",
    "print(factorize(7) == {2: 0, 3: 0, 5: 0, 7: 1})"
   ]
  },
  {
   "cell_type": "markdown",
   "id": "global-persian",
   "metadata": {
    "lines_to_next_cell": 0
   },
   "source": [
    "#### 素因数分解で出てきた素数のうち最大の素数を取得"
   ]
  },
  {
   "cell_type": "code",
   "execution_count": 9,
   "id": "rough-duncan",
   "metadata": {},
   "outputs": [],
   "source": [
    "def get_largest_prime(n):\n",
    "    factorization = factorize(n)\n",
    "    factors = []\n",
    "\n",
    "    # value が 0 でないキーだけ取ってくる\n",
    "    for k, v in factorization.items():\n",
    "        if v != 0:\n",
    "            factors.append(k)\n",
    "\n",
    "    return max(factors)"
   ]
  },
  {
   "cell_type": "markdown",
   "id": "ambient-prescription",
   "metadata": {
    "lines_to_next_cell": 0
   },
   "source": [
    "##### テスト"
   ]
  },
  {
   "cell_type": "code",
   "execution_count": 10,
   "id": "young-province",
   "metadata": {},
   "outputs": [
    {
     "name": "stdout",
     "output_type": "stream",
     "text": [
      "True\n",
      "True\n",
      "True\n",
      "True\n",
      "True\n",
      "True\n"
     ]
    }
   ],
   "source": [
    "print(get_largest_prime(2) == 2)\n",
    "print(get_largest_prime(3) == 3)\n",
    "print(get_largest_prime(4) == 2)\n",
    "print(get_largest_prime(5) == 5)\n",
    "print(get_largest_prime(6) == 3)\n",
    "print(get_largest_prime(7) == 7)"
   ]
  },
  {
   "cell_type": "markdown",
   "id": "straight-activation",
   "metadata": {
    "lines_to_next_cell": 0
   },
   "source": [
    "#### 解答結果確認\n",
    "時間がかかるので注意。"
   ]
  },
  {
   "cell_type": "code",
   "execution_count": null,
   "id": "opening-mineral",
   "metadata": {
    "lines_to_next_cell": 0
   },
   "outputs": [],
   "source": [
    "%%time\n",
    "print(get_largest_prime(now_number))"
   ]
  },
  {
   "cell_type": "markdown",
   "id": "funded-stable",
   "metadata": {},
   "source": [
    "### 方針2\n",
    "`is_prime`, `get_primes_less_than`, `factorize`は使い回そう.\n",
    "ルート以下の素数を探せばいいので計算しておく."
   ]
  },
  {
   "cell_type": "code",
   "execution_count": null,
   "id": "soviet-bishop",
   "metadata": {},
   "outputs": [],
   "source": [
    "import math\n",
    "now_number_sqrt = math.ceil(math.sqrt(now_number))"
   ]
  },
  {
   "cell_type": "markdown",
   "id": "short-peoples",
   "metadata": {
    "lines_to_next_cell": 0
   },
   "source": [
    "#### 素数かどうかは抜きにしてとにかく割れる最大数を出す"
   ]
  },
  {
   "cell_type": "code",
   "execution_count": null,
   "id": "august-focus",
   "metadata": {},
   "outputs": [],
   "source": [
    "%%time\n",
    "max_number = 1\n",
    "for i in range(2, now_number_sqrt):\n",
    "    if now_number % i == 0:\n",
    "        max_number = i\n",
    "\n",
    "max_number2 = 1\n",
    "for i in range(2, max_number + 1):\n",
    "    if max_number % i == 0:\n",
    "        print(i)\n",
    "        max_number2 = i\n",
    "\n",
    "print(max_number2)"
   ]
  }
 ],
 "metadata": {
  "jupytext": {
   "formats": "ipynb,md"
  },
  "kernelspec": {
   "display_name": "Python 3",
   "language": "python",
   "name": "python3"
  },
  "language_info": {
   "codemirror_mode": {
    "name": "ipython",
    "version": 3
   },
   "file_extension": ".py",
   "mimetype": "text/x-python",
   "name": "python",
   "nbconvert_exporter": "python",
   "pygments_lexer": "ipython3",
   "version": "3.8.8"
  }
 },
 "nbformat": 4,
 "nbformat_minor": 5
}
