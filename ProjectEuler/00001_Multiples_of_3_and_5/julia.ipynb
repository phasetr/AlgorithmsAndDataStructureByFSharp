{
 "cells": [
  {
   "cell_type": "markdown",
   "metadata": {},
   "source": [
    "# Multiples of 3 and 5"
   ]
  },
  {
   "cell_type": "markdown",
   "metadata": {},
   "source": [
    "## バージョン情報"
   ]
  },
  {
   "cell_type": "code",
   "execution_count": 1,
   "metadata": {},
   "outputs": [
    {
     "name": "stdout",
     "output_type": "stream",
     "text": [
      "Julia Version 1.6.0\n",
      "Commit f9720dc2eb (2021-03-24 12:55 UTC)\n",
      "Platform Info:\n",
      "  OS: Windows (x86_64-w64-mingw32)\n",
      "  CPU: AMD Ryzen 5 3500U with Radeon Vega Mobile Gfx  \n",
      "  WORD_SIZE: 64\n",
      "  LIBM: libopenlibm\n",
      "  LLVM: libLLVM-11.0.1 (ORCJIT, znver1)\n"
     ]
    }
   ],
   "source": [
    "versioninfo()"
   ]
  },
  {
   "cell_type": "markdown",
   "metadata": {},
   "source": [
    "## Problem 1\n",
    "If we list all the natural numbers below 10 that are multiples of 3 or 5, we get 3, 5, 6 and 9. The sum of these multiples is 23.\n",
    "Find the sum of all the multiples of 3 or 5 below 1000.\n",
    "\n",
    "> 1000 未満の 3 と 5 の倍数のすべての和を計算せよ。"
   ]
  },
  {
   "cell_type": "markdown",
   "metadata": {},
   "source": [
    "## 方針またはプログラミング基礎\n",
    "凝ったことをしていないのでPythonとほとんど同じように考えられる。\n",
    "PythonとJuliaでプログラムを読みかえるのも大変だろうから、重複をいとわず書くことにしよう。\n",
    "\n",
    "JuliaにはJuliaの都合があって、高速化を考えるといくつか工夫が必要だが、まずはあまり気にせず書くことにする。\n",
    "### 方針1\n",
    "まずは1000未満の3の倍数と5の倍数を全部作ってみよう。ただ、1000だと結果が見づらいので、`n=30`くらいにして見やすくする。"
   ]
  },
  {
   "cell_type": "code",
   "execution_count": 2,
   "metadata": {},
   "outputs": [
    {
     "data": {
      "text/plain": [
       "999"
      ]
     },
     "execution_count": 2,
     "metadata": {},
     "output_type": "execute_result"
    }
   ],
   "source": [
    "# 本来の値\n",
    "N = 999"
   ]
  },
  {
   "cell_type": "code",
   "execution_count": 3,
   "metadata": {},
   "outputs": [
    {
     "name": "stdout",
     "output_type": "stream",
     "text": [
      "[3, 6, 9, 12, 15, 18, 21, 24, 27, 30]\n"
     ]
    }
   ],
   "source": [
    "n = 30\n",
    "threes = Vector{Int}(undef, 0)\n",
    "for i in 1:n\n",
    "    if i % 3 == 0 append!(threes, i) end\n",
    "end\n",
    "\n",
    "println(threes)"
   ]
  },
  {
   "cell_type": "code",
   "execution_count": 4,
   "metadata": {},
   "outputs": [
    {
     "name": "stdout",
     "output_type": "stream",
     "text": [
      "[5, 10, 15, 20, 25, 30]"
     ]
    }
   ],
   "source": [
    "fives = Vector{Int}(undef, 0)\n",
    "for i in 1:n\n",
    "    if i % 5 == 0 append!(fives, i) end\n",
    "end\n",
    "\n",
    "print(fives)"
   ]
  },
  {
   "cell_type": "markdown",
   "metadata": {},
   "source": [
    "このふたつのリストには重複がある。\n",
    "具体的には15の倍数が重複する。\n",
    "何らかの方法でこの重複を処理したい。\n",
    "\n",
    "方法はいくつかある。\n",
    "最終的には効率・速度も考えないといけないが、ここではそこまでは要求しない。\n",
    "\n",
    "一番簡単なのはリストを一気に作る方法か？"
   ]
  },
  {
   "cell_type": "code",
   "execution_count": 5,
   "metadata": {},
   "outputs": [
    {
     "name": "stdout",
     "output_type": "stream",
     "text": [
      "[3, 5, 6, 9, 10, 12, 15, 18, 20, 21, 24, 25, 27, 30]"
     ]
    }
   ],
   "source": [
    "numbers = Vector{Int}(undef, 0)\n",
    "for i in 1:n\n",
    "    if i % 3 == 0 || i % 5 == 0 append!(numbers, i) end\n",
    "end\n",
    "print(numbers)"
   ]
  },
  {
   "cell_type": "markdown",
   "metadata": {},
   "source": [
    "あとは和を取る。"
   ]
  },
  {
   "cell_type": "code",
   "execution_count": 6,
   "metadata": {},
   "outputs": [
    {
     "data": {
      "text/plain": [
       "225"
      ]
     },
     "execution_count": 6,
     "metadata": {},
     "output_type": "execute_result"
    }
   ],
   "source": [
    "numbers = Vector{Int}(undef, 0)\n",
    "for i in 1:n\n",
    "    if i % 3 == 0 || i % 5 == 0 append!(numbers, i) end\n",
    "end\n",
    "sum(numbers)"
   ]
  },
  {
   "cell_type": "markdown",
   "metadata": {},
   "source": [
    "`n`を`N`に変えて計算してみよう。"
   ]
  },
  {
   "cell_type": "code",
   "execution_count": 7,
   "metadata": {},
   "outputs": [
    {
     "data": {
      "text/plain": [
       "233168"
      ]
     },
     "execution_count": 7,
     "metadata": {},
     "output_type": "execute_result"
    }
   ],
   "source": [
    "numbers = Vector{Int}(undef, 0)\n",
    "for i in 1:N\n",
    "    if i % 3 == 0 || i % 5 == 0 append!(numbers, i) end\n",
    "end\n",
    "sum(numbers)"
   ]
  },
  {
   "cell_type": "markdown",
   "metadata": {},
   "source": [
    "これで確かに解答が得られた。\n",
    "[解答1](#解答1)として別途まとめておこう。"
   ]
  },
  {
   "cell_type": "markdown",
   "metadata": {},
   "source": [
    "### 方針2\n",
    "引き続き効率やスピード度外視で考えよう。\n",
    "今度はリストではなく集合で作ってみる。\n",
    "\n",
    "まずは3の倍数から。"
   ]
  },
  {
   "cell_type": "code",
   "execution_count": 8,
   "metadata": {},
   "outputs": [
    {
     "name": "stdout",
     "output_type": "stream",
     "text": [
      "Set([6, 15, 21, 27, 18, 9, 12, 24, 30, 3])\n"
     ]
    }
   ],
   "source": [
    "threes = Set{Int}()\n",
    "for i in 1:n\n",
    "    if i % 3 == 0 push!(threes, i) end\n",
    "end\n",
    "println(threes)"
   ]
  },
  {
   "cell_type": "markdown",
   "metadata": {},
   "source": [
    "変わったのは`threes = []`ではなく`set()`とした部分。\n",
    "5の倍数も同じ。"
   ]
  },
  {
   "cell_type": "code",
   "execution_count": 9,
   "metadata": {},
   "outputs": [
    {
     "name": "stdout",
     "output_type": "stream",
     "text": [
      "Set([5, 15, 20, 25, 10, 30])"
     ]
    }
   ],
   "source": [
    "fives = Set{Int}()\n",
    "for i in 1:n\n",
    "    if i % 5 == 0 push!(fives, i) end\n",
    "end\n",
    "print(fives)"
   ]
  },
  {
   "cell_type": "markdown",
   "metadata": {},
   "source": [
    "わざと同じ流れにしたが、はじめからリストの時と同じように`if i % 3 ==0 or i % 5 == 0`で作ってもいい。\n",
    "あえて同じ流れにしたのは集合には便利な演算がありそれを紹介するため。\n",
    "このデータ構造は重複があると勝手に重複を一意化してくれる。\n",
    "\n",
    "特に和集合を作る演算があるので、それでリストの時と同じく、必要なすべての数をリストアップした`numbers`を作ってみよう。\n",
    "具体的には関数`union`か`∪`演算子で和集合が作れる。"
   ]
  },
  {
   "cell_type": "code",
   "execution_count": 10,
   "metadata": {},
   "outputs": [
    {
     "name": "stdout",
     "output_type": "stream",
     "text": [
      "true\n",
      "true\n"
     ]
    }
   ],
   "source": [
    "numbers1 = union(threes, fives)\n",
    "numbers2 = ∪(threes, fives)\n",
    "numbers3 = threes ∪ fives\n",
    "println(numbers1 == numbers2)\n",
    "println(numbers1 == numbers3)"
   ]
  },
  {
   "cell_type": "code",
   "execution_count": 11,
   "metadata": {},
   "outputs": [
    {
     "data": {
      "text/plain": [
       "225"
      ]
     },
     "execution_count": 11,
     "metadata": {},
     "output_type": "execute_result"
    }
   ],
   "source": [
    "sum(numbers3)"
   ]
  },
  {
   "cell_type": "markdown",
   "metadata": {},
   "source": [
    "`n`の時の値は配列版と一致した。\n",
    "`N`に変えれば正しい値が出るだろう。\n",
    "まとめて[解答2](#解答2)にしておく。"
   ]
  },
  {
   "cell_type": "markdown",
   "metadata": {},
   "source": [
    "## コードの単純化\n",
    "アルゴリズムのレベルで他にもやりようはあるだろう。\n",
    "ただパッと思いつかないので、とりあえずここではいくつかコードを簡素化してみる。\n",
    "いったん全てリストで対応する。"
   ]
  },
  {
   "cell_type": "markdown",
   "metadata": {},
   "source": [
    "### リスト内包表記\n",
    "読みやすいかどうかといった問題もあるが、一般にJuliaは`for`で書くよりもリスト内包表記で書く方が速くメモリ効率もいいとされているようなので、リスト内包表記を使ってみよう。\n",
    "\n",
    "まずは比較用にもともとの`for`で作ったリストを準備する。"
   ]
  },
  {
   "cell_type": "code",
   "execution_count": 12,
   "metadata": {},
   "outputs": [
    {
     "name": "stdout",
     "output_type": "stream",
     "text": [
      "[3, 6, 9, 12, 15, 18, 21, 24, 27, 30]"
     ]
    }
   ],
   "source": [
    "threes1 = Vector{Int}(undef, 0)\n",
    "for i in 1:n\n",
    "    if i % 3 == 0 append!(threes1, i) end\n",
    "end\n",
    "print(threes1)"
   ]
  },
  {
   "cell_type": "code",
   "execution_count": 13,
   "metadata": {},
   "outputs": [
    {
     "name": "stdout",
     "output_type": "stream",
     "text": [
      "true"
     ]
    }
   ],
   "source": [
    "threes2 = [i for i in 1:n if i % 3 == 0]\n",
    "print(threes1 == threes2)"
   ]
  },
  {
   "cell_type": "markdown",
   "metadata": {},
   "source": [
    "`for`で書くと4行だったのが1行になった。\n",
    "慣れていないと読みづらいのは間違いない。\n",
    "あと`for`の中身が長いとそもそも書けたものではない。"
   ]
  },
  {
   "cell_type": "code",
   "execution_count": 14,
   "metadata": {},
   "outputs": [
    {
     "data": {
      "text/plain": [
       "225"
      ]
     },
     "execution_count": 14,
     "metadata": {},
     "output_type": "execute_result"
    }
   ],
   "source": [
    "numbers = [i for i in 1:n if i % 3 == 0 || i % 5 == 0]\n",
    "sum(numbers)"
   ]
  },
  {
   "cell_type": "markdown",
   "metadata": {},
   "source": [
    "上のセルでは`n`で計算した。\n",
    "本来の答え（リストの和）が欲しいだけならもっと短く書ける。\n",
    "今度は`N`で計算しよう。"
   ]
  },
  {
   "cell_type": "code",
   "execution_count": 15,
   "metadata": {},
   "outputs": [
    {
     "data": {
      "text/plain": [
       "233168"
      ]
     },
     "execution_count": 15,
     "metadata": {},
     "output_type": "execute_result"
    }
   ],
   "source": [
    "sum([i for i in 1:N if i % 3 == 0 || i % 5 == 0])"
   ]
  },
  {
   "cell_type": "markdown",
   "metadata": {},
   "source": [
    "### 高階関数\n",
    "例えば`filter`を使ってみよう。\n",
    "`filter`は第一引数が関数で、第二引数に「リスト」を取る関数で、第一引数の関数の真偽に応じてリストの要素をふるいにかける（フィルターする）。\n",
    "\n",
    "よくわからなければ具体的に挙動を見るのが早い。\n",
    "例を作って確認しよう。"
   ]
  },
  {
   "cell_type": "code",
   "execution_count": 16,
   "metadata": {},
   "outputs": [
    {
     "name": "stdout",
     "output_type": "stream",
     "text": [
      "[1, 2, 3, 4]\n"
     ]
    }
   ],
   "source": [
    "function lt5(x)\n",
    "    return x < 5\n",
    "end\n",
    "\n",
    "below1000 = 1:N\n",
    "lessthan5 = filter(lt5, below1000)\n",
    "println(lessthan5)"
   ]
  },
  {
   "cell_type": "markdown",
   "metadata": {},
   "source": [
    "`lt5`は less than 5 の頭文字で、5より小さい数に対して`True`を返す。\n",
    "そして`filter`には`True`を返してほしい関数と対象リストを渡している。\n",
    "\n",
    "ラムダの記法以外にも、Juliaは短い関数を簡単に書く記法があるのでまずはそれを紹介しよう。"
   ]
  },
  {
   "cell_type": "code",
   "execution_count": 17,
   "metadata": {},
   "outputs": [
    {
     "name": "stdout",
     "output_type": "stream",
     "text": [
      "[1, 2, 3, 4]\n"
     ]
    }
   ],
   "source": [
    "lt5(x) = x < 5\n",
    "\n",
    "below1000 = 1:N\n",
    "lessthan5 = filter(lt5, below1000)\n",
    "println(lessthan5)"
   ]
  },
  {
   "cell_type": "markdown",
   "metadata": {},
   "source": [
    "長い関数ならともかく、関数本体が短い場合、いちいち関数を定義するのが面倒な場合がある。\n",
    "そういうときはラムダを使うといい。\n",
    "これも例を見た方が早い。"
   ]
  },
  {
   "cell_type": "code",
   "execution_count": 18,
   "metadata": {},
   "outputs": [
    {
     "name": "stdout",
     "output_type": "stream",
     "text": [
      "[1, 2, 3, 4]"
     ]
    }
   ],
   "source": [
    "below1000 = 1:N\n",
    "lessthan5 = filter(x -> x < 5, below1000)\n",
    "print(lessthan5)"
   ]
  },
  {
   "cell_type": "markdown",
   "metadata": {},
   "source": [
    "これを使って解答を作ってみよう。"
   ]
  },
  {
   "cell_type": "code",
   "execution_count": 19,
   "metadata": {},
   "outputs": [
    {
     "data": {
      "text/plain": [
       "233168"
      ]
     },
     "execution_count": 19,
     "metadata": {},
     "output_type": "execute_result"
    }
   ],
   "source": [
    "all = 1:N\n",
    "numbers = filter(x -> x % 3 == 0 || x % 5 == 0, all)\n",
    "sum(numbers)"
   ]
  },
  {
   "cell_type": "markdown",
   "metadata": {},
   "source": [
    "このくらいのコードなら、次のようにもっとシンプルにしてもいいだろう。"
   ]
  },
  {
   "cell_type": "code",
   "execution_count": 20,
   "metadata": {},
   "outputs": [
    {
     "data": {
      "text/plain": [
       "233168"
      ]
     },
     "execution_count": 20,
     "metadata": {},
     "output_type": "execute_result"
    }
   ],
   "source": [
    "sum(filter(x -> x % 3 == 0 || x % 5 == 0, 1:N))"
   ]
  },
  {
   "cell_type": "markdown",
   "metadata": {},
   "source": [
    "### パイプライン演算子\n",
    "F#でも便利な演算子で、処理の流れが読みやすい。\n",
    "単純な標準出力で比較してみよう。"
   ]
  },
  {
   "cell_type": "code",
   "execution_count": 21,
   "metadata": {},
   "outputs": [
    {
     "name": "stdout",
     "output_type": "stream",
     "text": [
      "[1, 2, 3]\n",
      "[1, 2, 3]\n"
     ]
    }
   ],
   "source": [
    "println([1,2,3])\n",
    "[1,2,3] |> println"
   ]
  },
  {
   "cell_type": "markdown",
   "metadata": {},
   "source": [
    "関数が一つだけの場合は後者の方が面倒かもしれないが、`sum(filter(x -> x % 3 == 0 || x % 5 == 0, 1:999))`くらいの長さになってくるとパイプラインが読みやすくなる（ことがある）。\n",
    "試してみよう。"
   ]
  },
  {
   "cell_type": "code",
   "execution_count": 22,
   "metadata": {},
   "outputs": [
    {
     "data": {
      "text/plain": [
       "233168"
      ]
     },
     "execution_count": 22,
     "metadata": {},
     "output_type": "execute_result"
    }
   ],
   "source": [
    "div3or5(x) = x % 3 == 0 || x % 5 == 0\n",
    "[1:999;] |> x -> filter(div3or5, x) |> sum"
   ]
  },
  {
   "cell_type": "markdown",
   "metadata": {},
   "source": [
    "もちろん`div3or5`もラムダにできる。"
   ]
  },
  {
   "cell_type": "code",
   "execution_count": 23,
   "metadata": {},
   "outputs": [
    {
     "data": {
      "text/plain": [
       "233168"
      ]
     },
     "execution_count": 23,
     "metadata": {},
     "output_type": "execute_result"
    }
   ],
   "source": [
    "[1:N;] |> x -> filter(n -> n % 3 == 0 || n % 5 == 0, x) |> sum"
   ]
  },
  {
   "cell_type": "markdown",
   "metadata": {},
   "source": [
    "## 解答"
   ]
  },
  {
   "cell_type": "markdown",
   "metadata": {},
   "source": [
    "### 解答1"
   ]
  },
  {
   "cell_type": "code",
   "execution_count": 24,
   "metadata": {},
   "outputs": [
    {
     "data": {
      "text/plain": [
       "233168"
      ]
     },
     "execution_count": 24,
     "metadata": {},
     "output_type": "execute_result"
    }
   ],
   "source": [
    "numbers = Vector{Int}(undef, 0)\n",
    "for i in 1:999\n",
    "    if i % 3 == 0 || i % 5 == 0 append!(numbers, i) end\n",
    "end\n",
    "sum(numbers)"
   ]
  },
  {
   "cell_type": "markdown",
   "metadata": {},
   "source": [
    "### 解答2"
   ]
  },
  {
   "cell_type": "code",
   "execution_count": 25,
   "metadata": {},
   "outputs": [
    {
     "data": {
      "text/plain": [
       "233168"
      ]
     },
     "execution_count": 25,
     "metadata": {},
     "output_type": "execute_result"
    }
   ],
   "source": [
    "threes = Set{Int}()\n",
    "for i in 1:999\n",
    "    if i % 3 == 0 push!(threes, i) end\n",
    "end\n",
    "\n",
    "fives = Set{Int}()\n",
    "for i in 1:999\n",
    "    if i % 5 == 0 push!(fives, i) end\n",
    "end\n",
    "\n",
    "numbers3 = threes ∪ fives\n",
    "sum(numbers3)"
   ]
  },
  {
   "cell_type": "markdown",
   "metadata": {},
   "source": [
    "### 解答3"
   ]
  },
  {
   "cell_type": "code",
   "execution_count": 26,
   "metadata": {},
   "outputs": [
    {
     "data": {
      "text/plain": [
       "233168"
      ]
     },
     "execution_count": 26,
     "metadata": {},
     "output_type": "execute_result"
    }
   ],
   "source": [
    "sum([i for i in 1:999 if i % 3 == 0 || i % 5 == 0])"
   ]
  },
  {
   "cell_type": "markdown",
   "metadata": {},
   "source": [
    "### 解答4"
   ]
  },
  {
   "cell_type": "code",
   "execution_count": 27,
   "metadata": {},
   "outputs": [
    {
     "data": {
      "text/plain": [
       "233168"
      ]
     },
     "execution_count": 27,
     "metadata": {},
     "output_type": "execute_result"
    }
   ],
   "source": [
    "sum(filter(x -> x % 3 == 0 || x % 5 == 0, 1:999))"
   ]
  },
  {
   "cell_type": "markdown",
   "metadata": {},
   "source": [
    "### 解答5"
   ]
  },
  {
   "cell_type": "code",
   "execution_count": 28,
   "metadata": {},
   "outputs": [
    {
     "data": {
      "text/plain": [
       "233168"
      ]
     },
     "execution_count": 28,
     "metadata": {},
     "output_type": "execute_result"
    }
   ],
   "source": [
    "[1:999;] |> x -> filter(n -> n % 3 == 0 || n % 5 == 0, x) |> sum"
   ]
  }
 ],
 "metadata": {
  "jupytext": {
   "formats": "ipynb,md"
  },
  "kernelspec": {
   "display_name": "Julia 1.6.0",
   "language": "julia",
   "name": "julia-1.6"
  },
  "language_info": {
   "file_extension": ".jl",
   "mimetype": "application/julia",
   "name": "julia",
   "version": "1.6.0"
  }
 },
 "nbformat": 4,
 "nbformat_minor": 4
}
