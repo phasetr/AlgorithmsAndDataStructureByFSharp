{
 "cells": [
  {
   "cell_type": "markdown",
   "id": "metropolitan-acceptance",
   "metadata": {},
   "source": [
    "# はじめに"
   ]
  },
  {
   "cell_type": "markdown",
   "id": "african-plasma",
   "metadata": {},
   "source": [
    "## オブジェクト削除用関数"
   ]
  },
  {
   "cell_type": "code",
   "execution_count": 1,
   "id": "secondary-daily",
   "metadata": {},
   "outputs": [
    {
     "data": {
      "text/plain": [
       ":del_obj"
      ]
     },
     "execution_count": 1,
     "metadata": {},
     "output_type": "execute_result"
    }
   ],
   "source": [
    "def del_obj\n",
    "  begin\n",
    "    Object.send(:remove_const, :FARule)\n",
    "  rescue => e\n",
    "  end\n",
    "\n",
    "  begin\n",
    "    Object.send(:remove_const, :DFARulebook)\n",
    "  rescue => e\n",
    "  end\n",
    "\n",
    "  begin\n",
    "    Object.send(:remove_const, :DFA)\n",
    "  rescue => e\n",
    "  end\n",
    "\n",
    "  begin\n",
    "    Object.send(:remove_const, :DFADesign)\n",
    "  rescue => e\n",
    "  end\n",
    "end"
   ]
  },
  {
   "cell_type": "markdown",
   "id": "experimental-clark",
   "metadata": {},
   "source": [
    "# P.63 3章 最も単純なコンピュータ\n",
    "- 計算する機械というアイデアにある本質を明らかにする\n",
    "- それがどんな用途に使えるのか\n",
    "- 単純なコンピュータにできることに対する制限を考える\n",
    "\n",
    "## P.63 3.1 決定性有限オートマトン\n",
    "- 有限状態機械（finite state machine）は有限オートマトン（finite automaton）と呼ばれる\n",
    "- コンピューターを単純化したモデル\n",
    "\n",
    "### P.63 3.1.1 状態、規則、入力\n",
    "- 有限オートマトンには永続的ストレージがない\n",
    "- RAMもない\n",
    "- 有限オートマトン: いくつかの取り得る状態（state）と現在どの状態にいるかを記録する能力を備えた小さな機械\n",
    "- 現在の状態という値1つを持つだけのRAMを備えたコンピューターとみなす\n",
    "- 一度に1文字しか読めない外部入力ストリームを1つだけ持つ\n",
    "- 入力に応じてある状態から別の状態への移動方法を決める規則（rule）の集合がハードコードされている\n",
    "- 参考: P.64 図3-1\n",
    "\n",
    "### P.65 3.1.2 出力\n",
    "- 有限オートマトンは基本的な出力生成手段を持つ\n",
    "- 受理状態（accept state）\n",
    "- 文字のシーケンスを読んでそれが受理できるかどうかイエスかノーで示すという機械: 単純なコンピュータ\n",
    "\n",
    "#### 表3-1\n",
    "|                  | 実際のコンピュータ                        | 有限オートマトン                                 |\n",
    "|------------------|-------------------------------------------|--------------------------------------------------|\n",
    "| 永続的ストレージ | ハードディスクもしくはSSD                 | なし                                             |\n",
    "| 一時的ストレージ | RAM                                       | 現在の状態                                       |\n",
    "| 入力             | キーボード, マウス, ネットワークなど      | 文字ストリーム                                   |\n",
    "| 出力             | 表示デバイス,スピーカー, ネットワークなど | 現在の状態が受理状態であるか（イエス・ノー）     |\n",
    "| プロセッサ       | 任意のプログラムを実行できるCPUコア       | 入力に応じて状態を変更するハードコードされた規則 |\n",
    "\n",
    "### P.66 3.1.3 決定性\n",
    "- この種のオートマトンは決定的である（deterministic）\n",
    "- 次の2つの制約を守る限り保証される\n",
    "    - 無矛盾性\n",
    "    - 省略がないこと\n",
    "- 機械は状態と入力の組み合わせに対して必ずひとつだけ規則を持つ\n",
    "- この決定性制約にしたがう機械を**決定性有限オートマトン（DFA：Deterministic Finite Automaton）**と呼ぶ\n",
    "\n",
    "### P.66 3.1.4 シミュレーション\n",
    "- 計算の抽象モデルとしてDFAを使う\n",
    "- 規則の集合を実装する: **規則集(rulebook)**と呼ぶ.\n",
    "\n",
    "##### dfa_rule01.rb\n",
    "- それぞれの規則が持つメソッド\n",
    "    - `#applies_to?`: ある特定の状態で規則を適用できるかどうか（true/false）を返す\n",
    "    - `#follow`: 規則を適用するときに機械をどのように変更するかを返す\n",
    "- 注意\n",
    "    - 適用できる規則がひとつもないと`#detect`の呼び出しはnilを返す\n",
    "    - `nil.follow`を呼び出そうとしてシミュレーションはクラッシュする"
   ]
  },
  {
   "cell_type": "code",
   "execution_count": 2,
   "id": "perfect-syndicate",
   "metadata": {},
   "outputs": [
    {
     "data": {
      "text/plain": [
       "true"
      ]
     },
     "execution_count": 2,
     "metadata": {},
     "output_type": "execute_result"
    }
   ],
   "source": [
    "del_obj\n",
    "dfa = \"./chapter03-rb/dfa_rule01.rb\"\n",
    "load dfa"
   ]
  },
  {
   "cell_type": "code",
   "execution_count": 3,
   "id": "particular-committee",
   "metadata": {},
   "outputs": [
    {
     "data": {
      "text/plain": [
       "#<struct DFARulebook rules=[#<FARule 1 --a--> 2>, #<FARule 1 --b--> 1>, #<FARule 2 --a--> 2>, #<FARule 2 --b--> 3>, #<FARule 3 --a--> 3>, #<FARule 3 --b--> 3>]>"
      ]
     },
     "execution_count": 3,
     "metadata": {},
     "output_type": "execute_result"
    }
   ],
   "source": [
    "rulebook = DFARulebook.new([\n",
    "  FARule.new(1, 'a', 2), FARule.new(1, 'b', 1),\n",
    "  FARule.new(2, 'a', 2), FARule.new(2, 'b', 3),\n",
    "  FARule.new(3, 'a', 3), FARule.new(3, 'b', 3)\n",
    "])"
   ]
  },
  {
   "cell_type": "code",
   "execution_count": 4,
   "id": "emotional-insertion",
   "metadata": {},
   "outputs": [
    {
     "data": {
      "text/plain": [
       "true"
      ]
     },
     "execution_count": 4,
     "metadata": {},
     "output_type": "execute_result"
    }
   ],
   "source": [
    "rulebook.next_state(1, 'a') == 2"
   ]
  },
  {
   "cell_type": "code",
   "execution_count": 5,
   "id": "digital-peoples",
   "metadata": {},
   "outputs": [
    {
     "data": {
      "text/plain": [
       "true"
      ]
     },
     "execution_count": 5,
     "metadata": {},
     "output_type": "execute_result"
    }
   ],
   "source": [
    "rulebook.next_state(1, 'b') == 1"
   ]
  },
  {
   "cell_type": "code",
   "execution_count": 6,
   "id": "likely-psychiatry",
   "metadata": {},
   "outputs": [
    {
     "data": {
      "text/plain": [
       "true"
      ]
     },
     "execution_count": 6,
     "metadata": {},
     "output_type": "execute_result"
    }
   ],
   "source": [
    "rulebook.next_state(2, 'b') == 3"
   ]
  },
  {
   "cell_type": "markdown",
   "id": "incident-financing",
   "metadata": {
    "lines_to_next_cell": 0
   },
   "source": [
    "#### P.68 規則集ができたら\n",
    "現在の状態を記録し, 受理状態かどうか報告するDFAオブジェクトを作る.\n",
    "\n",
    "##### dfa_rule02.rb"
   ]
  },
  {
   "cell_type": "code",
   "execution_count": 7,
   "id": "radical-package",
   "metadata": {},
   "outputs": [
    {
     "data": {
      "text/plain": [
       "true"
      ]
     },
     "execution_count": 7,
     "metadata": {},
     "output_type": "execute_result"
    }
   ],
   "source": [
    "del_obj\n",
    "dfa = \"./chapter03-rb/dfa_rule02.rb\"\n",
    "load dfa"
   ]
  },
  {
   "cell_type": "code",
   "execution_count": 8,
   "id": "exotic-directory",
   "metadata": {},
   "outputs": [
    {
     "data": {
      "text/plain": [
       "true"
      ]
     },
     "execution_count": 8,
     "metadata": {},
     "output_type": "execute_result"
    }
   ],
   "source": [
    "DFA.new(1, [1, 3], rulebook).accepting? == true"
   ]
  },
  {
   "cell_type": "code",
   "execution_count": 9,
   "id": "weekly-playlist",
   "metadata": {},
   "outputs": [
    {
     "data": {
      "text/plain": [
       "true"
      ]
     },
     "execution_count": 9,
     "metadata": {},
     "output_type": "execute_result"
    }
   ],
   "source": [
    "DFA.new(1, [3], rulebook).accepting? == false"
   ]
  },
  {
   "cell_type": "markdown",
   "id": "featured-tenant",
   "metadata": {},
   "source": [
    "#### P.68 メソッド追加\n",
    "- 入力から一文字読み, 規則集に応じて現在の状態を変えるメソッドを追加する.\n",
    "\n",
    "##### dfa_rule03.rb\n",
    "DFAに文字を与えて出力が変わるのを観察する."
   ]
  },
  {
   "cell_type": "code",
   "execution_count": 10,
   "id": "parallel-chaos",
   "metadata": {},
   "outputs": [
    {
     "data": {
      "text/plain": [
       "true"
      ]
     },
     "execution_count": 10,
     "metadata": {},
     "output_type": "execute_result"
    }
   ],
   "source": [
    "del_obj\n",
    "dfa = \"./chapter03-rb/dfa_rule03.rb\"\n",
    "load dfa"
   ]
  },
  {
   "cell_type": "code",
   "execution_count": 11,
   "id": "legitimate-beads",
   "metadata": {},
   "outputs": [
    {
     "data": {
      "text/plain": [
       "true"
      ]
     },
     "execution_count": 11,
     "metadata": {},
     "output_type": "execute_result"
    }
   ],
   "source": [
    "dfa = DFA.new(1, [3], rulebook); dfa.accepting? == false"
   ]
  },
  {
   "cell_type": "code",
   "execution_count": 12,
   "id": "offensive-commissioner",
   "metadata": {},
   "outputs": [
    {
     "data": {
      "text/plain": [
       "true"
      ]
     },
     "execution_count": 12,
     "metadata": {},
     "output_type": "execute_result"
    }
   ],
   "source": [
    "dfa.read_character('b'); dfa.accepting? == false"
   ]
  },
  {
   "cell_type": "code",
   "execution_count": 13,
   "id": "minute-thesis",
   "metadata": {},
   "outputs": [
    {
     "data": {
      "text/plain": [
       "true"
      ]
     },
     "execution_count": 13,
     "metadata": {},
     "output_type": "execute_result"
    }
   ],
   "source": [
    "3.times do dfa.read_character('a') end; dfa.accepting? == false"
   ]
  },
  {
   "cell_type": "code",
   "execution_count": 14,
   "id": "recent-knife",
   "metadata": {},
   "outputs": [
    {
     "data": {
      "text/plain": [
       "true"
      ]
     },
     "execution_count": 14,
     "metadata": {},
     "output_type": "execute_result"
    }
   ],
   "source": [
    "dfa.read_character('b'); dfa.accepting? == true"
   ]
  },
  {
   "cell_type": "markdown",
   "id": "perfect-aruba",
   "metadata": {},
   "source": [
    "#### P.69 メソッド追加\n",
    "与えた入力文字列をすべて読むことができる便利なメソッドを追加する.\n",
    "\n",
    "##### dfa_rule04.rb"
   ]
  },
  {
   "cell_type": "code",
   "execution_count": 15,
   "id": "cubic-fossil",
   "metadata": {},
   "outputs": [
    {
     "data": {
      "text/plain": [
       "true"
      ]
     },
     "execution_count": 15,
     "metadata": {},
     "output_type": "execute_result"
    }
   ],
   "source": [
    "del_obj\n",
    "dfa = \"./chapter03-rb/dfa_rule04.rb\"\n",
    "load dfa"
   ]
  },
  {
   "cell_type": "code",
   "execution_count": 16,
   "id": "occupational-florida",
   "metadata": {},
   "outputs": [
    {
     "data": {
      "text/plain": [
       "true"
      ]
     },
     "execution_count": 16,
     "metadata": {},
     "output_type": "execute_result"
    }
   ],
   "source": [
    "dfa = DFA.new(1, [3], rulebook); dfa.accepting? == false"
   ]
  },
  {
   "cell_type": "code",
   "execution_count": 17,
   "id": "narrative-husband",
   "metadata": {},
   "outputs": [
    {
     "data": {
      "text/plain": [
       "true"
      ]
     },
     "execution_count": 17,
     "metadata": {},
     "output_type": "execute_result"
    }
   ],
   "source": [
    "dfa.read_string('baaab'); dfa.accepting? == true"
   ]
  },
  {
   "cell_type": "markdown",
   "id": "healthy-buyer",
   "metadata": {
    "lines_to_next_cell": 0
   },
   "source": [
    "#### P.69 DFAの設計を表現するオブジェクト\n",
    "- 一度入力を読んだDFAオブジェクトは開始状態にいる保証がない\n",
    "- 新しい入力シーケンスのチェックでそのオブジェクトが再利用できる保証がない\n",
    "- 新しい文字列をチェックするたびに前と同じ開始状態・受理状態・規則集を使って最初からDFAを生成する必要がある\n",
    "- 面倒なので特定のDFAの設計（design）を表現するオブジェクトを作る\n",
    "     - そこにDFAのコンストラクタに渡す引数を格納する\n",
    "     - 文字列をチェックするたびに使い捨てのDFAのインスタンスを自動で作る\n",
    "\n",
    "##### dfa_rule05.rb"
   ]
  },
  {
   "cell_type": "code",
   "execution_count": 18,
   "id": "voluntary-protocol",
   "metadata": {},
   "outputs": [
    {
     "data": {
      "text/plain": [
       "true"
      ]
     },
     "execution_count": 18,
     "metadata": {},
     "output_type": "execute_result"
    }
   ],
   "source": [
    "del_obj\n",
    "dfa = \"./chapter03-rb/dfa_rule05.rb\"\n",
    "load dfa"
   ]
  },
  {
   "cell_type": "code",
   "execution_count": 19,
   "id": "flying-marketing",
   "metadata": {},
   "outputs": [
    {
     "data": {
      "text/plain": [
       "#<struct DFADesign start_state=1, accept_states=[3], rulebook=#<struct DFARulebook rules=[#<FARule 1 --a--> 2>, #<FARule 1 --b--> 1>, #<FARule 2 --a--> 2>, #<FARule 2 --b--> 3>, #<FARule 3 --a--> 3>, #<FARule 3 --b--> 3>]>>"
      ]
     },
     "execution_count": 19,
     "metadata": {},
     "output_type": "execute_result"
    }
   ],
   "source": [
    "dfa_design = DFADesign.new(1, [3], rulebook)"
   ]
  },
  {
   "cell_type": "code",
   "execution_count": 20,
   "id": "sacred-latino",
   "metadata": {},
   "outputs": [
    {
     "data": {
      "text/plain": [
       "true"
      ]
     },
     "execution_count": 20,
     "metadata": {},
     "output_type": "execute_result"
    }
   ],
   "source": [
    "dfa_design.accepts?('a') == false"
   ]
  },
  {
   "cell_type": "code",
   "execution_count": 21,
   "id": "individual-third",
   "metadata": {},
   "outputs": [
    {
     "data": {
      "text/plain": [
       "true"
      ]
     },
     "execution_count": 21,
     "metadata": {},
     "output_type": "execute_result"
    }
   ],
   "source": [
    "dfa_design.accepts?('baa') == false"
   ]
  },
  {
   "cell_type": "code",
   "execution_count": 22,
   "id": "grand-screw",
   "metadata": {},
   "outputs": [
    {
     "data": {
      "text/plain": [
       "true"
      ]
     },
     "execution_count": 22,
     "metadata": {},
     "output_type": "execute_result"
    }
   ],
   "source": [
    "dfa_design.accepts?('baba') == true"
   ]
  }
 ],
 "metadata": {
  "kernelspec": {
   "display_name": "Ruby 2.7.0",
   "language": "ruby",
   "name": "ruby"
  },
  "language_info": {
   "file_extension": ".rb",
   "mimetype": "application/x-ruby",
   "name": "ruby",
   "version": "2.7.0"
  }
 },
 "nbformat": 4,
 "nbformat_minor": 5
}
