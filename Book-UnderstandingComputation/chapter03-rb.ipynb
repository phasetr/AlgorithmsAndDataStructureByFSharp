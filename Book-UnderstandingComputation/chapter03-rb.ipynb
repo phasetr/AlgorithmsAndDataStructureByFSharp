{
 "cells": [
  {
   "cell_type": "markdown",
   "id": "prime-specialist",
   "metadata": {},
   "source": [
    "# P.63 3章 最も単純なコンピュータ"
   ]
  },
  {
   "cell_type": "markdown",
   "id": "danish-virgin",
   "metadata": {},
   "source": [
    "## P.63 3.1 決定性有限オートマトン"
   ]
  }
 ],
 "metadata": {
  "kernelspec": {
   "display_name": "Ruby 2.7.0",
   "language": "ruby",
   "name": "ruby"
  },
  "language_info": {
   "file_extension": ".rb",
   "mimetype": "application/x-ruby",
   "name": "ruby",
   "version": "2.7.0"
  }
 },
 "nbformat": 4,
 "nbformat_minor": 5
}
