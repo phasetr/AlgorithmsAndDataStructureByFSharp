{
 "cells": [
  {
   "cell_type": "markdown",
   "id": "under-integration",
   "metadata": {},
   "source": [
    "# はじめに"
   ]
  },
  {
   "cell_type": "markdown",
   "id": "joint-commitment",
   "metadata": {},
   "source": [
    "## オブジェクト削除用関数"
   ]
  },
  {
   "cell_type": "code",
   "execution_count": 1,
   "id": "comprehensive-conference",
   "metadata": {},
   "outputs": [
    {
     "data": {
      "text/plain": [
       ":del_obj"
      ]
     },
     "execution_count": 1,
     "metadata": {},
     "output_type": "execute_result"
    }
   ],
   "source": [
    "def del_obj\n",
    "  begin\n",
    "    Object.send(:remove_const, :FARule)\n",
    "  rescue => e\n",
    "  end\n",
    "\n",
    "  begin\n",
    "    Object.send(:remove_const, :DFARulebook)\n",
    "  rescue => e\n",
    "  end\n",
    "end"
   ]
  },
  {
   "cell_type": "markdown",
   "id": "funded-liberal",
   "metadata": {},
   "source": [
    "# P.63 3章 最も単純なコンピュータ\n",
    "- 計算する機械というアイデアにある本質を明らかにする\n",
    "- それがどんな用途に使えるのか\n",
    "- 単純なコンピュータにできることに対する制限を考える\n",
    "\n",
    "## P.63 3.1 決定性有限オートマトン\n",
    "- 有限状態機械（finite state machine）は有限オートマトン（finite automaton）と呼ばれる\n",
    "- コンピューターを単純化したモデル\n",
    "\n",
    "### P.63 3.1.1 状態、規則、入力\n",
    "- 有限オートマトンには永続的ストレージがない\n",
    "- RAMもない\n",
    "- 有限オートマトン: いくつかの取り得る状態（state）と現在どの状態にいるかを記録する能力を備えた小さな機械\n",
    "- 現在の状態という値1つを持つだけのRAMを備えたコンピューターとみなす\n",
    "- 一度に1文字しか読めない外部入力ストリームを1つだけ持つ\n",
    "- 入力に応じてある状態から別の状態への移動方法を決める規則（rule）の集合がハードコードされている\n",
    "- 参考: P.64 図3-1\n",
    "\n",
    "### P.65 3.1.2 出力\n",
    "- 有限オートマトンは基本的な出力生成手段を持つ\n",
    "- 受理状態（accept state）\n",
    "- 文字のシーケンスを読んでそれが受理できるかどうかイエスかノーで示すという機械: 単純なコンピュータ\n",
    "\n",
    "#### 表3-1\n",
    "|                  | 実際のコンピュータ                        | 有限オートマトン                                 |\n",
    "|------------------|-------------------------------------------|--------------------------------------------------|\n",
    "| 永続的ストレージ | ハードディスクもしくはSSD                 | なし                                             |\n",
    "| 一時的ストレージ | RAM                                       | 現在の状態                                       |\n",
    "| 入力             | キーボード, マウス, ネットワークなど      | 文字ストリーム                                   |\n",
    "| 出力             | 表示デバイス,スピーカー, ネットワークなど | 現在の状態が受理状態であるか（イエス・ノー）     |\n",
    "| プロセッサ       | 任意のプログラムを実行できるCPUコア       | 入力に応じて状態を変更するハードコードされた規則 |\n",
    "\n",
    "### P.66 3.1.3 決定性\n",
    "- この種のオートマトンは決定的である（deterministic）\n",
    "- 次の2つの制約を守る限り保証される\n",
    "    - 無矛盾性\n",
    "    - 省略がないこと\n",
    "- 機械は状態と入力の組み合わせに対して必ずひとつだけ規則を持つ\n",
    "- この決定性制約にしたがう機械を**決定性有限オートマトン（DFA：Deterministic Finite Automaton）**と呼ぶ\n",
    "\n",
    "### P.66 3.1.4 シミュレーション\n",
    "- 計算の抽象モデルとしてDFAを使う\n",
    "- 規則の集合を実装する: **規則集(rulebook)**と呼ぶ.\n",
    "\n",
    "##### dfa_rule01.rb\n",
    "- それぞれの規則が持つメソッド\n",
    "    - `#applies_to?`: ある特定の状態で規則を適用できるかどうか（true/false）を返す\n",
    "    - `#follow`: 規則を適用するときに機械をどのように変更するかを返す\n",
    "- 注意\n",
    "    - 適用できる規則がひとつもないと`#detect`の呼び出しはnilを返す\n",
    "    - `nil.follow`を呼び出そうとしてシミュレーションはクラッシュする"
   ]
  },
  {
   "cell_type": "code",
   "execution_count": 2,
   "id": "celtic-chick",
   "metadata": {},
   "outputs": [
    {
     "data": {
      "text/plain": [
       "true"
      ]
     },
     "execution_count": 2,
     "metadata": {},
     "output_type": "execute_result"
    }
   ],
   "source": [
    "del_obj\n",
    "dfa = \"./chapter03-rb/dfa_rule01.rb\"\n",
    "load dfa"
   ]
  },
  {
   "cell_type": "code",
   "execution_count": 3,
   "id": "threaded-eagle",
   "metadata": {},
   "outputs": [
    {
     "data": {
      "text/plain": [
       "#<struct DFARulebook rules=[#<FARule 1 --a--> 2>, #<FARule 1 --b--> 1>, #<FARule 2 --a--> 2>, #<FARule 2 --b--> 3>, #<FARule 3 --a--> 3>, #<FARule 3 --b--> 3>]>"
      ]
     },
     "execution_count": 3,
     "metadata": {},
     "output_type": "execute_result"
    }
   ],
   "source": [
    "rulebook = DFARulebook.new([\n",
    "  FARule.new(1, 'a', 2), FARule.new(1, 'b', 1),\n",
    "  FARule.new(2, 'a', 2), FARule.new(2, 'b', 3),\n",
    "  FARule.new(3, 'a', 3), FARule.new(3, 'b', 3)\n",
    "])"
   ]
  },
  {
   "cell_type": "code",
   "execution_count": 4,
   "id": "realistic-sheep",
   "metadata": {},
   "outputs": [
    {
     "data": {
      "text/plain": [
       "true"
      ]
     },
     "execution_count": 4,
     "metadata": {},
     "output_type": "execute_result"
    }
   ],
   "source": [
    "rulebook.next_state(1, 'a') == 2"
   ]
  },
  {
   "cell_type": "code",
   "execution_count": 5,
   "id": "sized-channels",
   "metadata": {},
   "outputs": [
    {
     "data": {
      "text/plain": [
       "true"
      ]
     },
     "execution_count": 5,
     "metadata": {},
     "output_type": "execute_result"
    }
   ],
   "source": [
    "rulebook.next_state(1, 'b') == 1"
   ]
  },
  {
   "cell_type": "code",
   "execution_count": 6,
   "id": "renewable-bookmark",
   "metadata": {},
   "outputs": [
    {
     "data": {
      "text/plain": [
       "true"
      ]
     },
     "execution_count": 6,
     "metadata": {},
     "output_type": "execute_result"
    }
   ],
   "source": [
    "rulebook.next_state(2, 'b') == 3"
   ]
  },
  {
   "cell_type": "markdown",
   "id": "passive-anthony",
   "metadata": {},
   "source": [
    "#### P.68 規則集ができたら"
   ]
  }
 ],
 "metadata": {
  "kernelspec": {
   "display_name": "Ruby 2.7.0",
   "language": "ruby",
   "name": "ruby"
  },
  "language_info": {
   "file_extension": ".rb",
   "mimetype": "application/x-ruby",
   "name": "ruby",
   "version": "2.7.0"
  }
 },
 "nbformat": 4,
 "nbformat_minor": 5
}
