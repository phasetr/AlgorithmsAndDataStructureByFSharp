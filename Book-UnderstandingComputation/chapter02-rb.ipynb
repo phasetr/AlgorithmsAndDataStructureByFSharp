{
 "cells": [
  {
   "cell_type": "markdown",
   "metadata": {},
   "source": [
    "# はじめに"
   ]
  },
  {
   "cell_type": "markdown",
   "metadata": {},
   "source": [
    "#### ファイルの内容表示関数\n",
    "最初試行錯誤していた時、生のクラスを書いて何度もセルを読み込むとエラーになるので、クラス定義のソースは外出しして、こちらにはそのファイルを書き出す形で表示していました。\n",
    "その名残です。"
   ]
  },
  {
   "cell_type": "code",
   "execution_count": 1,
   "metadata": {},
   "outputs": [
    {
     "data": {
      "text/plain": [
       ":fout"
      ]
     },
     "execution_count": 1,
     "metadata": {},
     "output_type": "execute_result"
    }
   ],
   "source": [
    "def fout(fname)\n",
    "  File.open(fname, mode=\"r\"){ |f|\n",
    "    f.each_line{|line|\n",
    "      puts line.chomp\n",
    "    }  \n",
    "  }\n",
    "end"
   ]
  },
  {
   "cell_type": "markdown",
   "metadata": {},
   "source": [
    "#### オブジェクト削除用関数\n",
    "上の処理は新しいファイルを読み込むごとにオブジェクトを消すことで対応することにしました。"
   ]
  },
  {
   "cell_type": "code",
   "execution_count": 2,
   "metadata": {},
   "outputs": [
    {
     "data": {
      "text/plain": [
       ":del_obj"
      ]
     },
     "execution_count": 2,
     "metadata": {},
     "output_type": "execute_result"
    }
   ],
   "source": [
    "def del_obj\n",
    "  begin\n",
    "    Object.send(:remove_const, :Number)\n",
    "  rescue => e\n",
    "  end\n",
    "\n",
    "  begin\n",
    "    Object.send(:remove_const, :Add)\n",
    "  rescue => e\n",
    "  end\n",
    "\n",
    "  begin\n",
    "    Object.send(:remove_const, :Multiply)\n",
    "  rescue => e\n",
    "  end\n",
    "\n",
    "  begin\n",
    "    Object.send(:remove_const, :Boolean)\n",
    "  rescue => e\n",
    "  end\n",
    "\n",
    "  begin\n",
    "    Object.send(:remove_const, :LessThan)\n",
    "  rescue => e\n",
    "  end\n",
    "\n",
    "  begin\n",
    "    Object.send(:remove_const, :Variable)\n",
    "  rescue => e\n",
    "  end\n",
    "\n",
    "  begin\n",
    "    Object.send(:remove_const, :Machine)\n",
    "  rescue => e\n",
    "  end\n",
    "\n",
    "  begin\n",
    "    Object.send(:remove_const, :DoNothing)\n",
    "  rescue => e\n",
    "  end\n",
    "\n",
    "  begin\n",
    "    Object.send(:remove_const, :Assign)\n",
    "  rescue => e\n",
    "  end\n",
    "\n",
    "  begin\n",
    "    Object.send(:remove_const, :If)\n",
    "  rescue => e\n",
    "  end\n",
    "\n",
    "  begin\n",
    "    Object.send(:remove_const, :Sequence)\n",
    "  rescue => e\n",
    "  end\n",
    "\n",
    "  begin\n",
    "    Object.send(:remove_const, :While)\n",
    "  rescue => e\n",
    "  end\n",
    "end"
   ]
  },
  {
   "cell_type": "markdown",
   "metadata": {},
   "source": [
    "# 第Ⅰ部 プログラムと機械\n",
    "- 計算とは**コンピュータがやること**に付けた名前"
   ]
  },
  {
   "cell_type": "markdown",
   "metadata": {},
   "source": [
    "#### 三つの基本的な構成要素\n",
    "- 計算できる機械（machine）\n",
    "- 機械が理解できる命令を書くための言語（language）\n",
    "- その言語で書かれた機械が実行すべき計算を正確に記述したプログラム（program）"
   ]
  },
  {
   "cell_type": "markdown",
   "metadata": {},
   "source": [
    "# 2章 プログラムの意味\n",
    "- コンピュータプログラムの意味を明確にする技術を考える"
   ]
  },
  {
   "cell_type": "markdown",
   "metadata": {},
   "source": [
    "## 2.1 「意味」の意味\n",
    "- 言語学的な意味論（semantics）：言葉と意味の関係に関する学問\n",
    "- 具象的記号はその抽象的意味や抽象的意味の基本的性質とどのように関係しているか？\n",
    "- 形式意味論（formal semantics）\n",
    "    - 新しい言語の仕様化・やコンパイラ最適化の工夫\n",
    "    - プログラムの正当性の数学的証明"
   ]
  },
  {
   "cell_type": "markdown",
   "metadata": {},
   "source": [
    "#### プログラミング言語の完全な記述に必要な要素\n",
    "- ひとつは構文（syntax）：プログラムがどのように見えるか\n",
    "- もうひとつは意味論：プログラムが何を意味するか"
   ]
  },
  {
   "cell_type": "markdown",
   "metadata": {},
   "source": [
    "#### プログラミング言語を記述する方法\n",
    "- 実装による言語定義\n",
    "- 公式文書として仕様書を書く\n",
    "    - 英語で書かれた仕様書について検証するための形式的手法は存在しない\n",
    "- 形式意味論の数学的な技術でプログラミング言語の意味を正確に記述する\n",
    "    - ここでの目標がこれ\n",
    "    - あいまいさをなくす\n",
    "    - 自動解析に適した形式で仕様を書く"
   ]
  },
  {
   "cell_type": "markdown",
   "metadata": {},
   "source": [
    "## 2.2 構文\n",
    "- 言語の構文規則で`y = x + 1`のような有効であろうプログラムと`>/;x:1@4`のような意味をなさないプログラムを区別する\n",
    "- プログラムを読むためにはパーサ（parser）が必要\n",
    "    - 抽象構文木(Abstract Syntax Tree)に変換する\n",
    "- 構文：プログラムがどのように見えるか"
   ]
  },
  {
   "cell_type": "markdown",
   "metadata": {},
   "source": [
    "## 2.3 操作的意味論\n",
    "- 最も実践的な方法はプログラムが何をするのかを考えること\n",
    "- 意味論：プログラムが何を意味するか？\n",
    "- 抽象機械（abstract machine）"
   ]
  },
  {
   "cell_type": "markdown",
   "metadata": {},
   "source": [
    "### 2.3.1 スモールステップ意味論\n",
    "- 構文を小さなステップ（スモールステップ）で繰り返し簡約（reduce）してプログラムを評価するような機械を考える\n",
    "- スモールステップによる簡約は学校で習った代数式の評価方法に似ている\n",
    "- 小さな簡約ステップの進め方に関する形式的規則を決めると操作的意味論が作れる\n",
    "    - これらの規則自体も何らかの言語（メタ言語（metalanguage））で記述する"
   ]
  },
  {
   "cell_type": "markdown",
   "metadata": {},
   "source": [
    "#### SIMPLE\n",
    "- 架空言語を作る\n",
    "- SIMPLEの構成要素をNumber・Add・Multiplyとし、Rubyのクラスとして表現する\n",
    "- P.21：SIMPLEのスモールステップ意味論（small-step semantics）の数学的説明の図が載っている"
   ]
  },
  {
   "cell_type": "markdown",
   "metadata": {},
   "source": [
    "#### 注意\n",
    "- ここでの「実装による仕様」はSIMPLEの意味論を記述する目的で作るのではない\n",
    "- 数学の代わりにRubyを使うのは人間が理解しやすくするため"
   ]
  },
  {
   "cell_type": "markdown",
   "metadata": {},
   "source": [
    "#### 完成品のコード\n",
    "- [SIMPLE.rb](chapter2/SIMPLE.rb)\n",
    "\n",
    "このコードを使って手動で抽象構文木が作れる。\n",
    "これを本に沿って順に書いていく。\n",
    "\n",
    "```ruby\n",
    "Add.new(\n",
    "  Multiply.new(Number.new(1), Number.new(2)),\n",
    "  Multiply.new(Number.new(3), Number.new(4))\n",
    ")\n",
    "```"
   ]
  },
  {
   "cell_type": "markdown",
   "metadata": {},
   "source": [
    "#### 実行（完成品）\n",
    "先に完成品をロードして実行しておく。"
   ]
  },
  {
   "cell_type": "code",
   "execution_count": 3,
   "metadata": {},
   "outputs": [
    {
     "data": {
      "text/plain": [
       "true"
      ]
     },
     "execution_count": 3,
     "metadata": {},
     "output_type": "execute_result"
    }
   ],
   "source": [
    "del_obj\n",
    "simple = \"./chapter02/SIMPLE.rb\"\n",
    "load simple"
   ]
  },
  {
   "cell_type": "code",
   "execution_count": 4,
   "metadata": {},
   "outputs": [
    {
     "data": {
      "text/plain": [
       "≪1 * 2 + 3 * 4≫"
      ]
     },
     "execution_count": 4,
     "metadata": {},
     "output_type": "execute_result"
    }
   ],
   "source": [
    "Add.new(\n",
    "  Multiply.new(Number.new(1), Number.new(2)), \n",
    "  Multiply.new(Number.new(3), Number.new(4))\n",
    ")"
   ]
  },
  {
   "cell_type": "markdown",
   "metadata": {},
   "source": [
    "`1*2+3*4`相当の構文を表すことができた。"
   ]
  },
  {
   "cell_type": "markdown",
   "metadata": {},
   "source": [
    "#### 2.3.1.1 式"
   ]
  },
  {
   "cell_type": "markdown",
   "metadata": {},
   "source": [
    "##### SIMPLE01"
   ]
  },
  {
   "cell_type": "code",
   "execution_count": 5,
   "metadata": {},
   "outputs": [
    {
     "data": {
      "text/plain": [
       "true"
      ]
     },
     "execution_count": 5,
     "metadata": {},
     "output_type": "execute_result"
    }
   ],
   "source": [
    "del_obj\n",
    "simple = \"./chapter02/SIMPLE01.rb\"\n",
    "load simple"
   ]
  },
  {
   "cell_type": "markdown",
   "metadata": {},
   "source": [
    "##### SIMPLE01 テスト"
   ]
  },
  {
   "cell_type": "code",
   "execution_count": 6,
   "metadata": {},
   "outputs": [
    {
     "data": {
      "text/plain": [
       "#<struct Number value=2>"
      ]
     },
     "execution_count": 6,
     "metadata": {},
     "output_type": "execute_result"
    }
   ],
   "source": [
    "Number.new(2)"
   ]
  },
  {
   "cell_type": "code",
   "execution_count": 7,
   "metadata": {},
   "outputs": [
    {
     "data": {
      "text/plain": [
       "#<struct Add left=#<struct Multiply left=#<struct Number value=1>, right=#<struct Number value=2>>, right=#<struct Multiply left=#<struct Number value=3>, right=#<struct Number value=4>>>"
      ]
     },
     "execution_count": 7,
     "metadata": {},
     "output_type": "execute_result"
    }
   ],
   "source": [
    "Add.new(\n",
    "  Multiply.new(Number.new(1), Number.new(2)),\n",
    "  Multiply.new(Number.new(3), Number.new(4))\n",
    ")"
   ]
  },
  {
   "cell_type": "markdown",
   "metadata": {},
   "source": [
    "```\n",
    "#<struct Add\n",
    "    left=#<struct Multiply\n",
    "        left=#<struct Number value=1>,\n",
    "        right=#<struct Number value=2>\n",
    "    >,\n",
    "    right=#<struct Multiply\n",
    "        left=#<struct Number value=3>,\n",
    "    right=#<struct Number value=4>\n",
    "    >\n",
    ">\n",
    "```"
   ]
  },
  {
   "cell_type": "markdown",
   "metadata": {},
   "source": [
    "#### P.23 カスタムの文字列表現を返せるようにする"
   ]
  },
  {
   "cell_type": "markdown",
   "metadata": {},
   "source": [
    "##### SIMPLE02"
   ]
  },
  {
   "cell_type": "code",
   "execution_count": 8,
   "metadata": {},
   "outputs": [
    {
     "data": {
      "text/plain": [
       "true"
      ]
     },
     "execution_count": 8,
     "metadata": {},
     "output_type": "execute_result"
    }
   ],
   "source": [
    "del_obj\n",
    "simple = \"./chapter02/SIMPLE02.rb\"\n",
    "load simple"
   ]
  },
  {
   "cell_type": "markdown",
   "metadata": {},
   "source": [
    "##### SIMPLE02 テスト"
   ]
  },
  {
   "cell_type": "code",
   "execution_count": 9,
   "metadata": {},
   "outputs": [
    {
     "data": {
      "text/plain": [
       "<<1 * 2 + 3 * 4>>"
      ]
     },
     "execution_count": 9,
     "metadata": {},
     "output_type": "execute_result"
    }
   ],
   "source": [
    "Add.new(\n",
    "  Multiply.new(Number.new(1), Number.new(2)),\n",
    "  Multiply.new(Number.new(3), Number.new(4))\n",
    ")"
   ]
  },
  {
   "cell_type": "markdown",
   "metadata": {},
   "source": [
    "#### P.24 上の実装に関する注意\n",
    "ここでの`#to_s`実装は演算子の優先順位を考えていないため、慣習的な優先順位の規則に対して出力が正しくないことがある。\n",
    "\n",
    "下の木は`<<1 * (2 + 3) * 4>>`を表しているものの、\n",
    "`<<1 * 2 + 3 * 4>>`とは違う式で別の意味を持つ。\n",
    "文字列表現にこの違いを反映させていない。"
   ]
  },
  {
   "cell_type": "code",
   "execution_count": 10,
   "metadata": {},
   "outputs": [
    {
     "data": {
      "text/plain": [
       "<<1 * 2 + 3 * 4>>"
      ]
     },
     "execution_count": 10,
     "metadata": {},
     "output_type": "execute_result"
    }
   ],
   "source": [
    "Multiply.new(\n",
    "  Number.new(1),\n",
    "  Multiply.new(\n",
    "    Add.new(Number.new(2), Number.new(3)),\n",
    "    Number.new(4)\n",
    "  )\n",
    ")"
   ]
  },
  {
   "cell_type": "markdown",
   "metadata": {},
   "source": [
    "### P.24 簡約可能な式と簡約可能でない式の区別\n",
    "- `Add`式と`Multiply`式は常に簡約可能\n",
    "- `Number`式は簡約不可能"
   ]
  },
  {
   "cell_type": "markdown",
   "metadata": {},
   "source": [
    "##### SIMPLE03"
   ]
  },
  {
   "cell_type": "code",
   "execution_count": 11,
   "metadata": {},
   "outputs": [
    {
     "data": {
      "text/plain": [
       "true"
      ]
     },
     "execution_count": 11,
     "metadata": {},
     "output_type": "execute_result"
    }
   ],
   "source": [
    "del_obj\n",
    "simple = \"./chapter02/SIMPLE03.rb\"\n",
    "load simple"
   ]
  },
  {
   "cell_type": "markdown",
   "metadata": {},
   "source": [
    "##### SIMPLE03 テスト"
   ]
  },
  {
   "cell_type": "code",
   "execution_count": 12,
   "metadata": {},
   "outputs": [
    {
     "data": {
      "text/plain": [
       "true"
      ]
     },
     "execution_count": 12,
     "metadata": {},
     "output_type": "execute_result"
    }
   ],
   "source": [
    "Number.new(1).reducible? == false"
   ]
  },
  {
   "cell_type": "code",
   "execution_count": 13,
   "metadata": {},
   "outputs": [
    {
     "data": {
      "text/plain": [
       "true"
      ]
     },
     "execution_count": 13,
     "metadata": {},
     "output_type": "execute_result"
    }
   ],
   "source": [
    "Add.new(Number.new(1), Number.new(2)).reducible? == true"
   ]
  },
  {
   "cell_type": "markdown",
   "metadata": {},
   "source": [
    "#### P.26 簡約規則の追加\n",
    "- 足し算の左の引数が簡約可能な場合には、左の引数を簡約する\n",
    "- 足し算の左の引数が簡約可能ではなく、右の引数が簡約可能な場合には、右の引数を簡約する\n",
    "- どちらの引数も簡約可能でない場合には、どちらも数値のはずなので、それらを足し合わせる"
   ]
  },
  {
   "cell_type": "markdown",
   "metadata": {},
   "source": [
    "##### SIMPLE04"
   ]
  },
  {
   "cell_type": "code",
   "execution_count": 14,
   "metadata": {},
   "outputs": [
    {
     "data": {
      "text/plain": [
       "true"
      ]
     },
     "execution_count": 14,
     "metadata": {},
     "output_type": "execute_result"
    }
   ],
   "source": [
    "del_obj\n",
    "simple = \"./chapter02/SIMPLE04.rb\"\n",
    "load simple"
   ]
  },
  {
   "cell_type": "markdown",
   "metadata": {},
   "source": [
    "##### SIMPLE04 テスト"
   ]
  },
  {
   "cell_type": "code",
   "execution_count": 15,
   "metadata": {},
   "outputs": [
    {
     "data": {
      "text/plain": [
       "<<1 * 2 + 3 * 4>>"
      ]
     },
     "execution_count": 15,
     "metadata": {},
     "output_type": "execute_result"
    }
   ],
   "source": [
    "expr = Add.new(\n",
    "  Multiply.new(Number.new(1), Number.new(2)),\n",
    "  Multiply.new(Number.new(3), Number.new(4))\n",
    ")"
   ]
  },
  {
   "cell_type": "code",
   "execution_count": 16,
   "metadata": {},
   "outputs": [
    {
     "data": {
      "text/plain": [
       "true"
      ]
     },
     "execution_count": 16,
     "metadata": {},
     "output_type": "execute_result"
    }
   ],
   "source": [
    "expr.reducible? == true"
   ]
  },
  {
   "cell_type": "code",
   "execution_count": 17,
   "metadata": {},
   "outputs": [
    {
     "data": {
      "text/plain": [
       "<<2 + 3 * 4>>"
      ]
     },
     "execution_count": 17,
     "metadata": {},
     "output_type": "execute_result"
    }
   ],
   "source": [
    "expr = expr.reduce"
   ]
  },
  {
   "cell_type": "code",
   "execution_count": 18,
   "metadata": {},
   "outputs": [
    {
     "data": {
      "text/plain": [
       "true"
      ]
     },
     "execution_count": 18,
     "metadata": {},
     "output_type": "execute_result"
    }
   ],
   "source": [
    "expr.reducible? == true"
   ]
  },
  {
   "cell_type": "code",
   "execution_count": 19,
   "metadata": {},
   "outputs": [
    {
     "data": {
      "text/plain": [
       "<<2 + 12>>"
      ]
     },
     "execution_count": 19,
     "metadata": {},
     "output_type": "execute_result"
    }
   ],
   "source": [
    "expr = expr.reduce"
   ]
  },
  {
   "cell_type": "code",
   "execution_count": 20,
   "metadata": {},
   "outputs": [
    {
     "data": {
      "text/plain": [
       "true"
      ]
     },
     "execution_count": 20,
     "metadata": {},
     "output_type": "execute_result"
    }
   ],
   "source": [
    "expr.reducible? == true"
   ]
  },
  {
   "cell_type": "code",
   "execution_count": 21,
   "metadata": {},
   "outputs": [
    {
     "data": {
      "text/plain": [
       "<<14>>"
      ]
     },
     "execution_count": 21,
     "metadata": {},
     "output_type": "execute_result"
    }
   ],
   "source": [
    "expr = expr.reduce"
   ]
  },
  {
   "cell_type": "code",
   "execution_count": 22,
   "metadata": {},
   "outputs": [
    {
     "data": {
      "text/plain": [
       "true"
      ]
     },
     "execution_count": 22,
     "metadata": {},
     "output_type": "execute_result"
    }
   ],
   "source": [
    "expr.reducible? == false"
   ]
  },
  {
   "cell_type": "markdown",
   "metadata": {},
   "source": [
    "#### P.27 仮想機械\n",
    "状態（現在の式）を持ち、最終的に値になるまで`#reducible?`と`#reduce`を繰り返し呼び出して式を評価してきました。\n",
    "これを自動化してくれるコードを書きます。\n",
    "コードと状態をクラスにまとめて仮想機械と呼びましょう。"
   ]
  },
  {
   "cell_type": "markdown",
   "metadata": {},
   "source": [
    "##### SIMPLE05"
   ]
  },
  {
   "cell_type": "code",
   "execution_count": 23,
   "metadata": {},
   "outputs": [
    {
     "data": {
      "text/plain": [
       "true"
      ]
     },
     "execution_count": 23,
     "metadata": {},
     "output_type": "execute_result"
    }
   ],
   "source": [
    "del_obj\n",
    "simple = \"./chapter02/SIMPLE05.rb\"\n",
    "load simple"
   ]
  },
  {
   "cell_type": "markdown",
   "metadata": {},
   "source": [
    "##### SIMPLE05 テスト"
   ]
  },
  {
   "cell_type": "code",
   "execution_count": 24,
   "metadata": {},
   "outputs": [
    {
     "name": "stdout",
     "output_type": "stream",
     "text": [
      "1 * 2 + 3 * 4\n",
      "2 + 3 * 4\n",
      "2 + 12\n",
      "14\n"
     ]
    }
   ],
   "source": [
    "Machine.new(\n",
    "  Add.new(\n",
    "     Multiply.new(Number.new(1), Number.new(2)),\n",
    "     Multiply.new(Number.new(3), Number.new(4))\n",
    "  )\n",
    ").run"
   ]
  },
  {
   "cell_type": "markdown",
   "metadata": {},
   "source": [
    "#### P.28 実装の拡張"
   ]
  },
  {
   "cell_type": "markdown",
   "metadata": {},
   "source": [
    "##### SIMPLE06"
   ]
  },
  {
   "cell_type": "code",
   "execution_count": 25,
   "metadata": {},
   "outputs": [
    {
     "data": {
      "text/plain": [
       "true"
      ]
     },
     "execution_count": 25,
     "metadata": {},
     "output_type": "execute_result"
    }
   ],
   "source": [
    "del_obj\n",
    "simple = \"./chapter02/SIMPLE06.rb\"\n",
    "load simple"
   ]
  },
  {
   "cell_type": "markdown",
   "metadata": {},
   "source": [
    "##### SIMPLE06 テスト"
   ]
  },
  {
   "cell_type": "code",
   "execution_count": 26,
   "metadata": {},
   "outputs": [
    {
     "name": "stdout",
     "output_type": "stream",
     "text": [
      "5 < 2 + 2\n",
      "5 < 4\n",
      "false\n"
     ]
    }
   ],
   "source": [
    "Machine.new(\n",
    "  LessThan.new(Number.new(5), Add.new(Number.new(2), Number.new(2)))\n",
    ").run"
   ]
  },
  {
   "cell_type": "markdown",
   "metadata": {},
   "source": [
    "#### P.29 SIMPLEを高機能化する\n",
    "変数を追加するために`Variable`という式のクラスを導入します。\n",
    "変数を簡約するためには抽象機械は現在の式に加えて変数名から値へのマッピングである環境（environment）を持つ必要があります。\n",
    "シンボルをキー、式オブジェクトを値としたハッシュでこのマッピングを実装できます。\n",
    "\n",
    "環境を与えれば`Variable#reduce`は簡単に実装できます。\n",
    "この影響を受けて他の`reduce`メソッドも修正します。"
   ]
  },
  {
   "cell_type": "markdown",
   "metadata": {},
   "source": [
    "##### SIMPLE07"
   ]
  },
  {
   "cell_type": "code",
   "execution_count": 27,
   "metadata": {},
   "outputs": [
    {
     "data": {
      "text/plain": [
       "true"
      ]
     },
     "execution_count": 27,
     "metadata": {},
     "output_type": "execute_result"
    }
   ],
   "source": [
    "del_obj\n",
    "simple = \"./chapter02/SIMPLE07.rb\"\n",
    "load simple"
   ]
  },
  {
   "cell_type": "markdown",
   "metadata": {},
   "source": [
    "#### "
   ]
  },
  {
   "cell_type": "markdown",
   "metadata": {},
   "source": [
    "##### SIMPLE07 テスト"
   ]
  },
  {
   "cell_type": "code",
   "execution_count": 28,
   "metadata": {},
   "outputs": [
    {
     "name": "stdout",
     "output_type": "stream",
     "text": [
      "x + y\n",
      "3 + y\n",
      "3 + 4\n",
      "7\n"
     ]
    }
   ],
   "source": [
    "Machine.new(\n",
    "  Add.new(Variable.new(:x), Variable.new(:y)),\n",
    "  { x: Number.new(3), y: Number.new(4) }\n",
    ").run"
   ]
  },
  {
   "cell_type": "markdown",
   "metadata": {},
   "source": [
    "#### P.31 2.3.1.2 文\n",
    "- 文（statement）：もうひとつのプログラム構成要素\n",
    "- 式：評価されて別の式を生成する\n",
    "- 文：評価されると抽象機械の状態を変更する\n",
    "- 最も単純な文は、何もしない文\n",
    "    - ここではプログラムが正しく終わったことを表すために使う\n",
    "    - 以降、文が正しく終わったときは`«do-nothing»`に簡約する"
   ]
  },
  {
   "cell_type": "markdown",
   "metadata": {},
   "source": [
    "##### `DoNothing`\n",
    "- `DoNothing`は敬称がない：属性がなく`Struct.new`に空の属性名のリストを渡せない`Ruby`の都合"
   ]
  },
  {
   "cell_type": "code",
   "execution_count": 29,
   "metadata": {},
   "outputs": [
    {
     "data": {
      "text/plain": [
       ":reducible?"
      ]
     },
     "execution_count": 29,
     "metadata": {},
     "output_type": "execute_result"
    }
   ],
   "source": [
    "class DoNothing\n",
    "  def to_s\n",
    "    'do-nothing'\n",
    "  end\n",
    "\n",
    "  def inspect\n",
    "    \"<<#{self}>>\"\n",
    "  end\n",
    "\n",
    "  def ==(other_statement)\n",
    "    other_statement.instance_of?(DoNothing)\n",
    "  end\n",
    "\n",
    "  def reducible?\n",
    "    false\n",
    "  end\n",
    "end"
   ]
  },
  {
   "cell_type": "markdown",
   "metadata": {},
   "source": [
    "#### P.32 実際に役に立つ一番単純な文\n",
    "- `x = x + 1`のような代入（assignment）"
   ]
  },
  {
   "cell_type": "markdown",
   "metadata": {},
   "source": [
    "#### P.33 注意\n",
    "- SIMPLEのスモールステップ意味論での位置づけ\n",
    "- 式は純粋（pure）\n",
    "- 文は純粋ではない（impure）"
   ]
  },
  {
   "cell_type": "markdown",
   "metadata": {},
   "source": [
    "##### SIMPLE08"
   ]
  },
  {
   "cell_type": "code",
   "execution_count": 30,
   "metadata": {},
   "outputs": [
    {
     "data": {
      "text/plain": [
       "true"
      ]
     },
     "execution_count": 30,
     "metadata": {},
     "output_type": "execute_result"
    }
   ],
   "source": [
    "del_obj\n",
    "simple = \"./chapter02/SIMPLE08.rb\"\n",
    "load simple"
   ]
  },
  {
   "cell_type": "markdown",
   "metadata": {},
   "source": [
    "##### SIMPLE08 テスト"
   ]
  },
  {
   "cell_type": "code",
   "execution_count": 31,
   "metadata": {},
   "outputs": [
    {
     "data": {
      "text/plain": [
       "<<x = x + 1>>"
      ]
     },
     "execution_count": 31,
     "metadata": {},
     "output_type": "execute_result"
    }
   ],
   "source": [
    "statement = Assign.new(:x, Add.new(Variable.new(:x), Number.new(1)))"
   ]
  },
  {
   "cell_type": "code",
   "execution_count": 32,
   "metadata": {},
   "outputs": [
    {
     "data": {
      "text/plain": [
       "{:x=><<2>>}"
      ]
     },
     "execution_count": 32,
     "metadata": {},
     "output_type": "execute_result"
    }
   ],
   "source": [
    "environment = { x: Number.new(2) }"
   ]
  },
  {
   "cell_type": "code",
   "execution_count": 33,
   "metadata": {},
   "outputs": [
    {
     "data": {
      "text/plain": [
       "true"
      ]
     },
     "execution_count": 33,
     "metadata": {},
     "output_type": "execute_result"
    }
   ],
   "source": [
    "statement.reducible? == true"
   ]
  },
  {
   "cell_type": "code",
   "execution_count": 34,
   "metadata": {},
   "outputs": [
    {
     "data": {
      "text/plain": [
       "[<<x = 2 + 1>>, {:x=><<2>>}]"
      ]
     },
     "execution_count": 34,
     "metadata": {},
     "output_type": "execute_result"
    }
   ],
   "source": [
    "statement, environment = statement.reduce(environment)"
   ]
  },
  {
   "cell_type": "code",
   "execution_count": 35,
   "metadata": {},
   "outputs": [
    {
     "data": {
      "text/plain": [
       "[<<x = 3>>, {:x=><<2>>}]"
      ]
     },
     "execution_count": 35,
     "metadata": {},
     "output_type": "execute_result"
    }
   ],
   "source": [
    "statement, environment = statement.reduce(environment)"
   ]
  },
  {
   "cell_type": "code",
   "execution_count": 36,
   "metadata": {},
   "outputs": [
    {
     "data": {
      "text/plain": [
       "[<<do-nothing>>, {:x=><<3>>}]"
      ]
     },
     "execution_count": 36,
     "metadata": {},
     "output_type": "execute_result"
    }
   ],
   "source": [
    "statement, environment = statement.reduce(environment)"
   ]
  },
  {
   "cell_type": "code",
   "execution_count": 37,
   "metadata": {},
   "outputs": [
    {
     "data": {
      "text/plain": [
       "true"
      ]
     },
     "execution_count": 37,
     "metadata": {},
     "output_type": "execute_result"
    }
   ],
   "source": [
    "statement.reducible? == false"
   ]
  },
  {
   "cell_type": "markdown",
   "metadata": {},
   "source": [
    "#### P.34 文が使えるように仮想機械を再実装"
   ]
  },
  {
   "cell_type": "markdown",
   "metadata": {},
   "source": [
    "##### SIMPLE09"
   ]
  },
  {
   "cell_type": "code",
   "execution_count": 38,
   "metadata": {},
   "outputs": [
    {
     "data": {
      "text/plain": [
       "true"
      ]
     },
     "execution_count": 38,
     "metadata": {},
     "output_type": "execute_result"
    }
   ],
   "source": [
    "del_obj\n",
    "simple = \"./chapter02/SIMPLE09.rb\"\n",
    "load simple"
   ]
  },
  {
   "cell_type": "code",
   "execution_count": 39,
   "metadata": {},
   "outputs": [
    {
     "name": "stdout",
     "output_type": "stream",
     "text": [
      "x = x + 1, {:x=><<2>>}\n",
      "x = 2 + 1, {:x=><<2>>}\n",
      "x = 3, {:x=><<2>>}\n",
      "do-nothing, {:x=><<3>>}\n"
     ]
    }
   ],
   "source": [
    "Machine.new(\n",
    "    Assign.new(:x, Add.new(Variable.new(:x), Number.new(1))),\n",
    "    { x: Number.new(2) }\n",
    ").run"
   ]
  },
  {
   "cell_type": "markdown",
   "metadata": {},
   "source": [
    "#### P.35 他の種類の分もサポートする\n",
    "- まずは条件文の`if`から\n",
    "- 条件（condition）、帰結（consequence）、代替（alternative）\n",
    "    - 条件が簡約可能なら条件を簡約する：簡約された条件文ともとのままの環境が得られる\n",
    "    - 条件が式`true`なら帰結文ともとのままの環境に簡約\n",
    "    -  条件が式`false`ならば代替文ともとのままの環境に簡約"
   ]
  },
  {
   "cell_type": "markdown",
   "metadata": {},
   "source": [
    "##### SIMPLE10"
   ]
  },
  {
   "cell_type": "code",
   "execution_count": 40,
   "metadata": {},
   "outputs": [
    {
     "data": {
      "text/plain": [
       "true"
      ]
     },
     "execution_count": 40,
     "metadata": {},
     "output_type": "execute_result"
    }
   ],
   "source": [
    "del_obj\n",
    "simple = \"./chapter02/SIMPLE10.rb\"\n",
    "load simple"
   ]
  },
  {
   "cell_type": "code",
   "execution_count": 41,
   "metadata": {},
   "outputs": [
    {
     "name": "stdout",
     "output_type": "stream",
     "text": [
      "if (x) { y = 1 } else { y = 2 }, {:x=><<true>>}\n",
      "if (true) { y = 1 } else { y = 2 }, {:x=><<true>>}\n",
      "y = 1, {:x=><<true>>}\n",
      "do-nothing, {:x=><<true>>, :y=><<1>>}\n"
     ]
    }
   ],
   "source": [
    "Machine.new(\n",
    "  If.new(\n",
    "    Variable.new(:x),\n",
    "    Assign.new(:y, Number.new(1)),\n",
    "    Assign.new(:y, Number.new(2))\n",
    "  ),\n",
    "  { x: Boolean.new(true) } ).run"
   ]
  },
  {
   "cell_type": "code",
   "execution_count": 42,
   "metadata": {},
   "outputs": [
    {
     "name": "stdout",
     "output_type": "stream",
     "text": [
      "if (x) { y = 1 } else { do-nothing }, {:x=><<false>>}\n",
      "if (false) { y = 1 } else { do-nothing }, {:x=><<false>>}\n",
      "do-nothing, {:x=><<false>>}\n"
     ]
    }
   ],
   "source": [
    "Machine.new(\n",
    "  If.new(Variable.new(:x), Assign.new(:y, Number.new(1)), DoNothing.new),\n",
    "  { x: Boolean.new(false) }\n",
    ").run"
   ]
  },
  {
   "cell_type": "markdown",
   "metadata": {},
   "source": [
    "#### P.36 まだある制約\n",
    "- 要素を互いにつなげられない\n",
    "- シーケンス（sequence）文で改善する：大きな一つの文を作れる"
   ]
  },
  {
   "cell_type": "markdown",
   "metadata": {},
   "source": [
    "#### P.36 シーケンス文の簡約規約\n",
    "- 1番目の文が`«do-nothing»`文：2番目の文ともとのままの環境に簡約する。\n",
    "- 1番目の文が`«do-nothing»`でない：1番目の文を簡約し、新しいシーケンス文（簡約された1番目の文に2番目の文が続いた文）と簡約された環境が得られる。\n",
    "- 規則全体としては、シーケンス文を繰り返し簡約したとき1番目の文が`«do-nothing»`になるまで簡約を続けてから2番目の文を簡約する。"
   ]
  },
  {
   "cell_type": "markdown",
   "metadata": {},
   "source": [
    "##### SIMPLE11"
   ]
  },
  {
   "cell_type": "code",
   "execution_count": 43,
   "metadata": {},
   "outputs": [
    {
     "data": {
      "text/plain": [
       "true"
      ]
     },
     "execution_count": 43,
     "metadata": {},
     "output_type": "execute_result"
    }
   ],
   "source": [
    "del_obj\n",
    "simple = \"./chapter02/SIMPLE11.rb\"\n",
    "load simple"
   ]
  },
  {
   "cell_type": "code",
   "execution_count": 44,
   "metadata": {},
   "outputs": [
    {
     "name": "stdout",
     "output_type": "stream",
     "text": [
      "x = 1 + 1; y = x + 3, {}\n",
      "x = 2; y = x + 3, {}\n",
      "do-nothing; y = x + 3, {:x=><<2>>}\n",
      "y = x + 3, {:x=><<2>>}\n",
      "y = 2 + 3, {:x=><<2>>}\n",
      "y = 5, {:x=><<2>>}\n",
      "do-nothing, {:x=><<2>>, :y=><<5>>}\n"
     ]
    }
   ],
   "source": [
    "Machine.new(\n",
    "  Sequence.new(\n",
    "    Assign.new(:x, Add.new(Number.new(1), Number.new(1))),\n",
    "    Assign.new(:y, Add.new(Variable.new(:x), Number.new(3)))\n",
    "  ),\n",
    "  {}\n",
    ").run"
   ]
  },
  {
   "cell_type": "markdown",
   "metadata": {},
   "source": [
    "#### P.37 ループを作ろう\n",
    "- `while`文を作ろう。\n",
    "- 条件（condition）と呼ばれる式（`«x < 5»`）と本体（body）と呼ばれる文（`«x = x * 3»`）が含まれる。\n",
    "- スモールステップ意味論\n",
    "    - シーケンス文を使って`«while»`を1段だけ展開（unroll）する\n",
    "    - ループを1回実行したらもとの`«while»`文を繰り返す`«if»`文に簡約する。"
   ]
  },
  {
   "cell_type": "markdown",
   "metadata": {},
   "source": [
    "##### SIMPLE12"
   ]
  },
  {
   "cell_type": "code",
   "execution_count": 45,
   "metadata": {},
   "outputs": [
    {
     "data": {
      "text/plain": [
       "true"
      ]
     },
     "execution_count": 45,
     "metadata": {},
     "output_type": "execute_result"
    }
   ],
   "source": [
    "del_obj\n",
    "simple = \"./chapter02/SIMPLE12.rb\"\n",
    "load simple"
   ]
  },
  {
   "cell_type": "code",
   "execution_count": 46,
   "metadata": {},
   "outputs": [
    {
     "name": "stdout",
     "output_type": "stream",
     "text": [
      "while (x < 5) { x = x * 3 }, {:x=><<1>>}\n",
      "if (x < 5) { x = x * 3; while (x < 5) { x = x * 3 } } else { do-nothing }, {:x=><<1>>}\n",
      "if (1 < 5) { x = x * 3; while (x < 5) { x = x * 3 } } else { do-nothing }, {:x=><<1>>}\n",
      "if (true) { x = x * 3; while (x < 5) { x = x * 3 } } else { do-nothing }, {:x=><<1>>}\n",
      "x = x * 3; while (x < 5) { x = x * 3 }, {:x=><<1>>}\n",
      "x = 1 * 3; while (x < 5) { x = x * 3 }, {:x=><<1>>}\n",
      "x = 3; while (x < 5) { x = x * 3 }, {:x=><<1>>}\n",
      "do-nothing; while (x < 5) { x = x * 3 }, {:x=><<3>>}\n",
      "while (x < 5) { x = x * 3 }, {:x=><<3>>}\n",
      "if (x < 5) { x = x * 3; while (x < 5) { x = x * 3 } } else { do-nothing }, {:x=><<3>>}\n",
      "if (3 < 5) { x = x * 3; while (x < 5) { x = x * 3 } } else { do-nothing }, {:x=><<3>>}\n",
      "if (true) { x = x * 3; while (x < 5) { x = x * 3 } } else { do-nothing }, {:x=><<3>>}\n",
      "x = x * 3; while (x < 5) { x = x * 3 }, {:x=><<3>>}\n",
      "x = 3 * 3; while (x < 5) { x = x * 3 }, {:x=><<3>>}\n",
      "x = 9; while (x < 5) { x = x * 3 }, {:x=><<3>>}\n",
      "do-nothing; while (x < 5) { x = x * 3 }, {:x=><<9>>}\n",
      "while (x < 5) { x = x * 3 }, {:x=><<9>>}\n",
      "if (x < 5) { x = x * 3; while (x < 5) { x = x * 3 } } else { do-nothing }, {:x=><<9>>}\n",
      "if (9 < 5) { x = x * 3; while (x < 5) { x = x * 3 } } else { do-nothing }, {:x=><<9>>}\n",
      "if (false) { x = x * 3; while (x < 5) { x = x * 3 } } else { do-nothing }, {:x=><<9>>}\n",
      "do-nothing, {:x=><<9>>}\n"
     ]
    }
   ],
   "source": [
    "Machine.new(\n",
    "  While.new(\n",
    "    LessThan.new(Variable.new(:x), Number.new(5)),\n",
    "    Assign.new(:x, Multiply.new(Variable.new(:x), Number.new(3)))\n",
    "  ),\n",
    "  { x: Number.new(1) }\n",
    ").run"
   ]
  },
  {
   "cell_type": "markdown",
   "metadata": {},
   "source": [
    "#### P.39 2.3.1.3 正当性\n",
    "- 構文的には有効でも正しくないプログラムを無視してきた\n",
    "- 例を見よう：最終的に`«true»`に`«1»`を足そうとしてエラー"
   ]
  },
  {
   "cell_type": "code",
   "execution_count": 47,
   "metadata": {},
   "outputs": [
    {
     "name": "stdout",
     "output_type": "stream",
     "text": [
      "x = true; x = x + 1, {}\n",
      "do-nothing; x = x + 1, {:x=><<true>>}\n",
      "x = x + 1, {:x=><<true>>}\n",
      "x = true + 1, {:x=><<true>>}\n",
      "\"undefined method `+' for true:TrueClass\"\n"
     ]
    },
    {
     "data": {
      "text/plain": [
       "\"undefined method `+' for true:TrueClass\""
      ]
     },
     "execution_count": 47,
     "metadata": {},
     "output_type": "execute_result"
    }
   ],
   "source": [
    "begin\n",
    "  Machine.new(\n",
    "    Sequence.new(\n",
    "      Assign.new(:x, Boolean.new(true)),\n",
    "      Assign.new(:x, Add.new(Variable.new(:x), Number.new(1)))\n",
    "    ),\n",
    "    {}\n",
    "  ).run\n",
    "rescue => e\n",
    "  p e.message\n",
    "end"
   ]
  },
  {
   "cell_type": "markdown",
   "metadata": {},
   "source": [
    "#### P.40 対処法\n",
    "- 対処法その1：式が簡約可能かどうかをもっと制限する\n",
    "- 評価が停止する可能性が生まれる\n",
    "- 究極的には構文よりも強力なツールが必要\n",
    "    - 「将来を見通して」失敗したり停止したりする可能性のあるプログラムの実行を防いでくれるツールが必要\n",
    "- 9章：静的意味論（static semantics）で構文的に有効なプログラムがその動的意味論にしたがって意味があるかどうかを判断する方法を見る"
   ]
  },
  {
   "cell_type": "markdown",
   "metadata": {},
   "source": [
    "#### P.40 2.3.1.4 応用\n",
    "- 意味論を変えると構文は同じでも実行時の振る舞いが違う新しい言語を記述できる\n",
    "- プログラミング言語Schemeの最新のR6RS標準\n",
    "    - 実行記述に[スモールステップ意味論](http://www.r6rs.org/final/html/r6rs/r6rs-Z-H-15.html)を使っている\n",
    "- OCaml：Core MLというもっと単純な言語の上に階層状に構築されている\n",
    "    - そのベース言語の実行時の振る舞いの[スモールステップ意味論定義](http://caml.inria.fr/pub/docs/u3-ocaml/ocaml-ml.html#htoc5)が存在する\n",
    "- スモールステップ操作的意味論で式の意味をもっと単純なラムダ計算（lambda calculus）と呼ばれるプログラミング言語で記述する例は「6.2.2 意味論」を参照すること"
   ]
  },
  {
   "cell_type": "markdown",
   "metadata": {},
   "source": [
    "### P.41 2.3.2 ビッグステップ意味論\n",
    "- 反復（iterative）：スモールステップ意味論の特徴\n",
    "- 簡約規則を繰り返し実行する（`Machine#run`における`Ruby`の`while`ループ）ための抽象機械が必要\n",
    "- 簡約規則そのものは必要な情報を入力として受け取って同種の情報を出力として生成するように構成される\n",
    "- スモールステップ意味論の利点：プログラム全体の実行という複雑な仕事を説明や解析のしやすい小さなパーツに切り分ける\n",
    "    - やや間接的\n",
    "    - プログラム全体がどのように動くのかを説明しているのではなく、どのように簡約していくかを示す\n",
    "- ビッグステップ意味論（big-step semantics）：完結した話としてもっと直接的に説明\n",
    "    - 実行プロセスを反復ではなく再帰（recursive）とみなす\n",
    "    - 大きな式を評価するために小さな部分式をすべて評価し、それらを組み合わせて最終的な答えを得る\n",
    "    - 言語の詳細がよくわからない\n",
    "- Rubyでビッグステップ意味論をどのように実装できるか調べよう\n",
    "- Machineクラスがいらない\n",
    "    - 抽象構文木を一度走査し、どうやってプログラム全体の結果を計算するかを記述する\n",
    "    - 状態や繰り返しは出てこない"
   ]
  },
  {
   "cell_type": "markdown",
   "metadata": {},
   "source": [
    "#### P.42 2.3.2.1 式\n",
    "- スモールステップ意味論では`«1 + 2»`のような簡約可能な式と`«3»`のような簡約不可能な式を区別する必要がある\n",
    "- ビッグステップ意味論ではすべての式を評価できる\n",
    "    - あえて区別するとしたら即座に自分自身に評価される式か、計算を実行して別の式に評価される式か"
   ]
  },
  {
   "cell_type": "markdown",
   "metadata": {},
   "source": [
    "##### SIMPLE13"
   ]
  }
 ],
 "metadata": {
  "kernelspec": {
   "display_name": "Ruby 2.7.0",
   "language": "ruby",
   "name": "ruby"
  },
  "language_info": {
   "file_extension": ".rb",
   "mimetype": "application/x-ruby",
   "name": "ruby",
   "version": "2.7.0"
  }
 },
 "nbformat": 4,
 "nbformat_minor": 4
}
