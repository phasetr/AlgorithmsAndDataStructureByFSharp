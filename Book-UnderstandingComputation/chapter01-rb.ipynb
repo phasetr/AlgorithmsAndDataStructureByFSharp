{
 "cells": [
  {
   "cell_type": "markdown",
   "metadata": {},
   "source": [
    "# 1. Rubyひとめぐり"
   ]
  },
  {
   "cell_type": "markdown",
   "metadata": {},
   "source": [
    "## 確認したRubyのバージョン"
   ]
  },
  {
   "cell_type": "code",
   "execution_count": 1,
   "metadata": {
    "scrolled": true
   },
   "outputs": [
    {
     "data": {
      "text/plain": [
       "\"2.7.0\""
      ]
     },
     "execution_count": 1,
     "metadata": {},
     "output_type": "execute_result"
    }
   ],
   "source": [
    "RUBY_VERSION"
   ]
  },
  {
   "cell_type": "markdown",
   "metadata": {},
   "source": [
    "## 1.1 対話型Rubyシェル\n",
    "起動は次の通り.\n",
    "\n",
    "```sh\n",
    "irb --simple-prompt\n",
    "```\n",
    "\n",
    "ここでは`iruby`・`jupyter`を使うことにした."
   ]
  },
  {
   "cell_type": "code",
   "execution_count": 2,
   "metadata": {},
   "outputs": [
    {
     "data": {
      "text/plain": [
       "30"
      ]
     },
     "execution_count": 2,
     "metadata": {},
     "output_type": "execute_result"
    }
   ],
   "source": [
    "x = 2\n",
    "y = 3\n",
    "z = x + y\n",
    "\n",
    "x * y * z"
   ]
  },
  {
   "cell_type": "markdown",
   "metadata": {},
   "source": [
    "## 1.2 値"
   ]
  },
  {
   "cell_type": "markdown",
   "metadata": {},
   "source": [
    "### 1.2.1 基本データ"
   ]
  },
  {
   "cell_type": "code",
   "execution_count": 3,
   "metadata": {},
   "outputs": [
    {
     "name": "stdout",
     "output_type": "stream",
     "text": [
      "true\n",
      "42\n",
      "\"hello world\"\n",
      "\"w\"\n"
     ]
    },
    {
     "data": {
      "text/plain": [
       "\"w\""
      ]
     },
     "execution_count": 3,
     "metadata": {},
     "output_type": "execute_result"
    }
   ],
   "source": [
    "p (true && false) || true\n",
    "p (3 + 3) * (14 / 2)\n",
    "p 'hello' + ' world'\n",
    "p 'hello world'.slice(6)"
   ]
  },
  {
   "cell_type": "markdown",
   "metadata": {},
   "source": [
    "#### シンボルについて\n",
    "> Rubyのシンボル（symbol）は、名前を表現する軽量な不変値です。\n",
    "> シンボルはシンプルでメモリ消費が少ないため、Rubyでは文字列の代わりとして至るところで使われています。\n",
    "> 最もよく使われているのは、ハッシュのキーとしてです（「1.2.2 データ構造」を参照）。\n",
    "> シンボルリテラルには、先頭にコロンを付けます。"
   ]
  },
  {
   "cell_type": "code",
   "execution_count": 4,
   "metadata": {},
   "outputs": [
    {
     "name": "stdout",
     "output_type": "stream",
     "text": [
      ":my_symbol\n",
      "true\n",
      "false\n",
      "nil\n"
     ]
    }
   ],
   "source": [
    "p :my_symbol\n",
    "p :my_symbol == :my_symbol\n",
    "p :my_symbol == :another_symbol\n",
    "p 'hello world'.slice(11)"
   ]
  },
  {
   "cell_type": "markdown",
   "metadata": {},
   "source": [
    "### 1.2.2 データ構造"
   ]
  },
  {
   "cell_type": "code",
   "execution_count": 5,
   "metadata": {},
   "outputs": [
    {
     "name": "stdout",
     "output_type": "stream",
     "text": [
      "[\"zero\", \"one\", \"two\"]\n",
      "\"one\"\n",
      "[\"zero\", \"one\", \"two\", \"three\", \"four\"]\n",
      "[\"zero\", \"one\", \"two\", \"three\", \"four\"]\n",
      "[\"two\", \"three\", \"four\"]\n"
     ]
    },
    {
     "data": {
      "text/plain": [
       "[\"two\", \"three\", \"four\"]"
      ]
     },
     "execution_count": 5,
     "metadata": {},
     "output_type": "execute_result"
    }
   ],
   "source": [
    "p numbers = ['zero', 'one', 'two']\n",
    "p numbers[1]\n",
    "p numbers.push('three', 'four')\n",
    "p numbers\n",
    "p numbers.drop(2)"
   ]
  },
  {
   "cell_type": "markdown",
   "metadata": {},
   "source": [
    "#### range"
   ]
  },
  {
   "cell_type": "code",
   "execution_count": 6,
   "metadata": {},
   "outputs": [
    {
     "name": "stdout",
     "output_type": "stream",
     "text": [
      "18..30\n",
      "[18, 19, 20, 21, 22, 23, 24, 25, 26, 27, 28, 29, 30]\n",
      "true\n",
      "false\n"
     ]
    },
    {
     "data": {
      "text/plain": [
       "false"
      ]
     },
     "execution_count": 6,
     "metadata": {},
     "output_type": "execute_result"
    }
   ],
   "source": [
    "p ages = 18..30\n",
    "p ages.entries\n",
    "p ages.include?(25)\n",
    "p ages.include?(33)"
   ]
  },
  {
   "cell_type": "markdown",
   "metadata": {},
   "source": [
    "#### ハッシュ"
   ]
  },
  {
   "cell_type": "code",
   "execution_count": 7,
   "metadata": {},
   "outputs": [
    {
     "name": "stdout",
     "output_type": "stream",
     "text": [
      "{\"a\"=>\"apple\", \"b\"=>\"banana\", \"c\"=>\"coconut\"}\n",
      "\"banana\"\n",
      "\"date\"\n",
      "{\"a\"=>\"apple\", \"b\"=>\"banana\", \"c\"=>\"coconut\", \"d\"=>\"date\"}\n",
      "{:width=>1000, :height=>2250, :depth=>250}\n",
      "250\n"
     ]
    },
    {
     "data": {
      "text/plain": [
       "250"
      ]
     },
     "execution_count": 7,
     "metadata": {},
     "output_type": "execute_result"
    }
   ],
   "source": [
    "p fruit = { 'a' => 'apple', 'b' => 'banana', 'c' => 'coconut' }\n",
    "p fruit['b']\n",
    "p fruit['d'] = 'date'\n",
    "p fruit\n",
    "\n",
    "p dimensions = { width: 1000, height: 2250, depth: 250 }\n",
    "p dimensions[:depth]"
   ]
  },
  {
   "cell_type": "markdown",
   "metadata": {},
   "source": [
    "### 1.2.3 Proc"
   ]
  },
  {
   "cell_type": "code",
   "execution_count": 8,
   "metadata": {},
   "outputs": [
    {
     "name": "stdout",
     "output_type": "stream",
     "text": [
      "#<Proc:0x000055d2ac003eb0 <main>:0 (lambda)>\n",
      "54\n",
      "6\n"
     ]
    },
    {
     "data": {
      "text/plain": [
       "6"
      ]
     },
     "execution_count": 8,
     "metadata": {},
     "output_type": "execute_result"
    }
   ],
   "source": [
    "p multiply = -> x, y { x * y }\n",
    "p multiply.call(6, 9)\n",
    "p multiply.call(2, 3)"
   ]
  },
  {
   "cell_type": "markdown",
   "metadata": {},
   "source": [
    "#### 角括弧\n",
    "> 角括弧を使うと、.call構文と同じようにprocを呼び出せます。"
   ]
  },
  {
   "cell_type": "code",
   "execution_count": 9,
   "metadata": {},
   "outputs": [
    {
     "name": "stdout",
     "output_type": "stream",
     "text": [
      "12\n"
     ]
    },
    {
     "data": {
      "text/plain": [
       "12"
      ]
     },
     "execution_count": 9,
     "metadata": {},
     "output_type": "execute_result"
    }
   ],
   "source": [
    "p multiply[3, 4]"
   ]
  },
  {
   "cell_type": "markdown",
   "metadata": {},
   "source": [
    "## 1.3 制御フロー"
   ]
  },
  {
   "cell_type": "code",
   "execution_count": 10,
   "metadata": {},
   "outputs": [
    {
     "name": "stdout",
     "output_type": "stream",
     "text": [
      "\"a couple\"\n",
      "\"many\"\n",
      "1\n",
      "1024\n"
     ]
    },
    {
     "data": {
      "text/plain": [
       "1024"
      ]
     },
     "execution_count": 10,
     "metadata": {},
     "output_type": "execute_result"
    }
   ],
   "source": [
    "if 2 < 3\n",
    "  'less'\n",
    "else\n",
    "  'more'\n",
    "end\n",
    "\n",
    "quantify =\n",
    "  -> number {\n",
    "  case number\n",
    "  when 1\n",
    "    'one'\n",
    "  when 2\n",
    "    'a couple'\n",
    "  else\n",
    "    'many'\n",
    "  end\n",
    "}\n",
    "p quantify.call(2)\n",
    "p quantify.call(10)\n",
    "p x = 1\n",
    "\n",
    "while x < 1000\n",
    "  x = x * 2\n",
    "end\n",
    "p x"
   ]
  },
  {
   "cell_type": "markdown",
   "metadata": {},
   "source": [
    "## 1.4 オブジェクトとメソッド"
   ]
  },
  {
   "cell_type": "code",
   "execution_count": 11,
   "metadata": {
    "scrolled": true
   },
   "outputs": [
    {
     "name": "stdout",
     "output_type": "stream",
     "text": [
      "5\n",
      "10\n"
     ]
    },
    {
     "data": {
      "text/plain": [
       "10"
      ]
     },
     "execution_count": 11,
     "metadata": {},
     "output_type": "execute_result"
    }
   ],
   "source": [
    "o = Object.new\n",
    "def o.add(x, y)\n",
    "  x + y\n",
    "end\n",
    "p o.add(2, 3)\n",
    "\n",
    "def o.add_twice(x, y)\n",
    "  add(x, y) + add(x, y)\n",
    "end\n",
    "p o.add_twice(2, 3)"
   ]
  },
  {
   "cell_type": "markdown",
   "metadata": {},
   "source": [
    "## 1.5 クラスとモジュール"
   ]
  },
  {
   "cell_type": "code",
   "execution_count": 12,
   "metadata": {},
   "outputs": [
    {
     "data": {
      "text/plain": [
       "Calculator"
      ]
     },
     "execution_count": 12,
     "metadata": {},
     "output_type": "execute_result"
    }
   ],
   "source": [
    "class Calculator\n",
    "  def divide(x, y)\n",
    "    x / y\n",
    "  end\n",
    "end\n",
    "c = Calculator.new\n",
    "c.class"
   ]
  },
  {
   "cell_type": "code",
   "execution_count": 13,
   "metadata": {
    "scrolled": true
   },
   "outputs": [
    {
     "data": {
      "text/plain": [
       "5"
      ]
     },
     "execution_count": 13,
     "metadata": {},
     "output_type": "execute_result"
    }
   ],
   "source": [
    "c.divide(10, 2)"
   ]
  },
  {
   "cell_type": "markdown",
   "metadata": {},
   "source": [
    "#### 継承"
   ]
  },
  {
   "cell_type": "code",
   "execution_count": 14,
   "metadata": {},
   "outputs": [
    {
     "data": {
      "text/plain": [
       "MultiplyingCalculator"
      ]
     },
     "execution_count": 14,
     "metadata": {},
     "output_type": "execute_result"
    }
   ],
   "source": [
    "class MultiplyingCalculator < Calculator\n",
    "  def multiply(x, y)\n",
    "    x * y\n",
    "  end\n",
    "end\n",
    "mc = MultiplyingCalculator.new\n",
    "mc.class"
   ]
  },
  {
   "cell_type": "code",
   "execution_count": 15,
   "metadata": {},
   "outputs": [
    {
     "data": {
      "text/plain": [
       "Calculator"
      ]
     },
     "execution_count": 15,
     "metadata": {},
     "output_type": "execute_result"
    }
   ],
   "source": [
    "mc.class.superclass"
   ]
  },
  {
   "cell_type": "code",
   "execution_count": 16,
   "metadata": {},
   "outputs": [
    {
     "data": {
      "text/plain": [
       "20"
      ]
     },
     "execution_count": 16,
     "metadata": {},
     "output_type": "execute_result"
    }
   ],
   "source": [
    "mc.multiply(10, 2)"
   ]
  },
  {
   "cell_type": "code",
   "execution_count": 17,
   "metadata": {},
   "outputs": [
    {
     "data": {
      "text/plain": [
       "5"
      ]
     },
     "execution_count": 17,
     "metadata": {},
     "output_type": "execute_result"
    }
   ],
   "source": [
    "mc.divide(10, 2)"
   ]
  },
  {
   "cell_type": "markdown",
   "metadata": {},
   "source": [
    "#### `super`\n",
    "サブクラスで定義したメソッドからスーパークラスで定義された同名のメソッドを呼び出せます。"
   ]
  },
  {
   "cell_type": "code",
   "execution_count": 18,
   "metadata": {},
   "outputs": [
    {
     "data": {
      "text/plain": [
       "\"10100\""
      ]
     },
     "execution_count": 18,
     "metadata": {},
     "output_type": "execute_result"
    }
   ],
   "source": [
    "class BinaryMultiplyingCalculator < MultiplyingCalculator\n",
    "  def multiply(x, y)\n",
    "    result = super(x, y)\n",
    "    result.to_s(2) # 2進数で表す\n",
    "  end\n",
    "end\n",
    "bmc = BinaryMultiplyingCalculator.new\n",
    "bmc.multiply(10, 2)"
   ]
  },
  {
   "cell_type": "markdown",
   "metadata": {},
   "source": [
    "#### モジュール内でメソッド定義"
   ]
  },
  {
   "cell_type": "code",
   "execution_count": 19,
   "metadata": {},
   "outputs": [
    {
     "data": {
      "text/plain": [
       "12"
      ]
     },
     "execution_count": 19,
     "metadata": {},
     "output_type": "execute_result"
    }
   ],
   "source": [
    "module Addition\n",
    "  def add(x, y)\n",
    "    x + y\n",
    "  end\n",
    "end\n",
    "class AddingCalculator\n",
    "  include Addition\n",
    "end\n",
    "ac = AddingCalculator.new\n",
    "ac.add(10, 2)"
   ]
  },
  {
   "cell_type": "markdown",
   "metadata": {},
   "source": [
    "## 1.6 その他の機能"
   ]
  },
  {
   "cell_type": "markdown",
   "metadata": {},
   "source": [
    "### 1.6.1 ローカル変数と代入"
   ]
  },
  {
   "cell_type": "code",
   "execution_count": 20,
   "metadata": {},
   "outputs": [
    {
     "data": {
      "text/plain": [
       "\"hello\""
      ]
     },
     "execution_count": 20,
     "metadata": {},
     "output_type": "execute_result"
    }
   ],
   "source": [
    "greeting = 'hello'\n",
    "greeting"
   ]
  },
  {
   "cell_type": "code",
   "execution_count": 21,
   "metadata": {},
   "outputs": [
    {
     "data": {
      "text/plain": [
       "2250"
      ]
     },
     "execution_count": 21,
     "metadata": {},
     "output_type": "execute_result"
    }
   ],
   "source": [
    "width, height, depth = [1000, 2250, 250]\n",
    "height"
   ]
  },
  {
   "cell_type": "markdown",
   "metadata": {},
   "source": [
    "### 1.6.2 文字列の式展開\n",
    "ダブルクォートで囲まれた文字列の場合、Rubyは自動的に式展開（interpolation）して`#{式 }`をその結果に置き換えます。"
   ]
  },
  {
   "cell_type": "code",
   "execution_count": 22,
   "metadata": {
    "scrolled": true
   },
   "outputs": [
    {
     "data": {
      "text/plain": [
       "\"hello world\""
      ]
     },
     "execution_count": 22,
     "metadata": {},
     "output_type": "execute_result"
    }
   ],
   "source": [
    "\"hello #{'dlrow'.reverse}\""
   ]
  },
  {
   "cell_type": "code",
   "execution_count": 23,
   "metadata": {
    "scrolled": true
   },
   "outputs": [
    {
     "data": {
      "text/plain": [
       "\"here is a new object\""
      ]
     },
     "execution_count": 23,
     "metadata": {},
     "output_type": "execute_result"
    }
   ],
   "source": [
    "o = Object.new\n",
    "def o.to_s\n",
    "  'a new object'\n",
    "end\n",
    "\"here is #{o}\""
   ]
  },
  {
   "cell_type": "markdown",
   "metadata": {},
   "source": [
    "### 1.6.3 オブジェクトのインスペクト"
   ]
  },
  {
   "cell_type": "code",
   "execution_count": 24,
   "metadata": {
    "scrolled": true
   },
   "outputs": [
    {
     "data": {
      "text/plain": [
       "[my object]"
      ]
     },
     "execution_count": 24,
     "metadata": {},
     "output_type": "execute_result"
    }
   ],
   "source": [
    "o = Object.new\n",
    "def o.inspect\n",
    "  '[my object]'\n",
    "end\n",
    "o"
   ]
  },
  {
   "cell_type": "markdown",
   "metadata": {},
   "source": [
    "### 1.6.4 文字列のプリント"
   ]
  },
  {
   "cell_type": "code",
   "execution_count": 25,
   "metadata": {
    "scrolled": true
   },
   "outputs": [
    {
     "name": "stdout",
     "output_type": "stream",
     "text": [
      "x is 128\n",
      "x is 256\n",
      "x is 512\n"
     ]
    }
   ],
   "source": [
    "x = 128\n",
    "while x < 1000\n",
    "  puts \"x is #{x}\"\n",
    "  x = x * 2\n",
    "end"
   ]
  },
  {
   "cell_type": "markdown",
   "metadata": {},
   "source": [
    "### 1.6.5 可変長引数のメソッド"
   ]
  },
  {
   "cell_type": "code",
   "execution_count": 26,
   "metadata": {},
   "outputs": [
    {
     "data": {
      "text/plain": [
       "\"one, two, three\""
      ]
     },
     "execution_count": 26,
     "metadata": {},
     "output_type": "execute_result"
    }
   ],
   "source": [
    "def join_with_commas(*words)\n",
    "  words.join(', ')\n",
    "end\n",
    "join_with_commas('one', 'two', 'three')"
   ]
  },
  {
   "cell_type": "markdown",
   "metadata": {},
   "source": [
    "メソッド定義は2つ以上の可変長引数を持てないものの、その両側に通常の引数があっても構いませ\n",
    "ん。"
   ]
  },
  {
   "cell_type": "code",
   "execution_count": 27,
   "metadata": {},
   "outputs": [
    {
     "data": {
      "text/plain": [
       "\"Testing: one, two, three.\""
      ]
     },
     "execution_count": 27,
     "metadata": {},
     "output_type": "execute_result"
    }
   ],
   "source": [
    "def join_with_commas(before, *words, after)\n",
    "  before + words.join(', ') + after\n",
    "end\n",
    "join_with_commas('Testing: ', 'one', 'two', 'three', '.')"
   ]
  },
  {
   "cell_type": "markdown",
   "metadata": {},
   "source": [
    "#### `*`演算子\n",
    "いろいろ使えます：詳しくは本参照。"
   ]
  },
  {
   "cell_type": "code",
   "execution_count": 28,
   "metadata": {},
   "outputs": [
    {
     "data": {
      "text/plain": [
       "\"Testing: one, two, three.\""
      ]
     },
     "execution_count": 28,
     "metadata": {},
     "output_type": "execute_result"
    }
   ],
   "source": [
    "arguments = ['Testing: ', 'one', 'two', 'three', '.']\n",
    "join_with_commas(*arguments)"
   ]
  },
  {
   "cell_type": "code",
   "execution_count": 29,
   "metadata": {},
   "outputs": [
    {
     "data": {
      "text/plain": [
       "[\"Testing: \", \"one\", \"two\", \"three\", \".\"]"
      ]
     },
     "execution_count": 29,
     "metadata": {},
     "output_type": "execute_result"
    }
   ],
   "source": [
    "before, *words, after = ['Testing: ', 'one', 'two', 'three', '.']"
   ]
  },
  {
   "cell_type": "code",
   "execution_count": 30,
   "metadata": {},
   "outputs": [
    {
     "data": {
      "text/plain": [
       "\"Testing: \""
      ]
     },
     "execution_count": 30,
     "metadata": {},
     "output_type": "execute_result"
    }
   ],
   "source": [
    "before"
   ]
  },
  {
   "cell_type": "code",
   "execution_count": 31,
   "metadata": {},
   "outputs": [
    {
     "data": {
      "text/plain": [
       "[\"one\", \"two\", \"three\"]"
      ]
     },
     "execution_count": 31,
     "metadata": {},
     "output_type": "execute_result"
    }
   ],
   "source": [
    "words"
   ]
  },
  {
   "cell_type": "code",
   "execution_count": 32,
   "metadata": {
    "scrolled": true
   },
   "outputs": [
    {
     "data": {
      "text/plain": [
       "\".\""
      ]
     },
     "execution_count": 32,
     "metadata": {},
     "output_type": "execute_result"
    }
   ],
   "source": [
    "after"
   ]
  },
  {
   "cell_type": "markdown",
   "metadata": {},
   "source": [
    "### 1.6.6 ブロック\n",
    "メソッドは暗黙のブロック引数を取れ、`yield`キーワードでブロック内のコードを呼び出せます。\n",
    "\n",
    "引数も取れます。"
   ]
  },
  {
   "cell_type": "code",
   "execution_count": 33,
   "metadata": {},
   "outputs": [
    {
     "name": "stdout",
     "output_type": "stream",
     "text": [
      "hello\n",
      "hello\n",
      "hello\n"
     ]
    }
   ],
   "source": [
    "def do_three_times\n",
    "  yield\n",
    "  yield\n",
    "  yield\n",
    "end\n",
    "do_three_times { puts 'hello' }"
   ]
  },
  {
   "cell_type": "code",
   "execution_count": 34,
   "metadata": {},
   "outputs": [
    {
     "name": "stdout",
     "output_type": "stream",
     "text": [
      "first: hello\n",
      "second: hello\n",
      "third: hello\n"
     ]
    }
   ],
   "source": [
    "def do_three_times\n",
    "  yield('first')\n",
    "  yield('second')\n",
    "  yield('third')\n",
    "end\n",
    "do_three_times { |n| puts \"#{n}: hello\" }"
   ]
  },
  {
   "cell_type": "code",
   "execution_count": 35,
   "metadata": {},
   "outputs": [
    {
     "data": {
      "text/plain": [
       "\"ENO, OWT, EERHT\""
      ]
     },
     "execution_count": 35,
     "metadata": {},
     "output_type": "execute_result"
    }
   ],
   "source": [
    "def number_names\n",
    "  [yield('one'), yield('two'), yield('three')].join(', ')\n",
    "end\n",
    "number_names { |name| name.upcase.reverse }"
   ]
  },
  {
   "cell_type": "markdown",
   "metadata": {},
   "source": [
    "### 1.6.7 Enumerable"
   ]
  },
  {
   "cell_type": "code",
   "execution_count": 36,
   "metadata": {},
   "outputs": [
    {
     "data": {
      "text/plain": [
       "5"
      ]
     },
     "execution_count": 36,
     "metadata": {},
     "output_type": "execute_result"
    }
   ],
   "source": [
    "(1..10).count { |number| number.even? }"
   ]
  },
  {
   "cell_type": "code",
   "execution_count": 37,
   "metadata": {},
   "outputs": [
    {
     "data": {
      "text/plain": [
       "[2, 4, 6, 8, 10]"
      ]
     },
     "execution_count": 37,
     "metadata": {},
     "output_type": "execute_result"
    }
   ],
   "source": [
    "(1..10).select { |number| number.even? }"
   ]
  },
  {
   "cell_type": "code",
   "execution_count": 38,
   "metadata": {},
   "outputs": [
    {
     "data": {
      "text/plain": [
       "true"
      ]
     },
     "execution_count": 38,
     "metadata": {},
     "output_type": "execute_result"
    }
   ],
   "source": [
    "(1..10).any? { |number| number < 8 }"
   ]
  },
  {
   "cell_type": "code",
   "execution_count": 39,
   "metadata": {},
   "outputs": [
    {
     "data": {
      "text/plain": [
       "false"
      ]
     },
     "execution_count": 39,
     "metadata": {},
     "output_type": "execute_result"
    }
   ],
   "source": [
    "(1..10).all? { |number| number < 8 }"
   ]
  },
  {
   "cell_type": "code",
   "execution_count": 40,
   "metadata": {},
   "outputs": [
    {
     "name": "stdout",
     "output_type": "stream",
     "text": [
      "1 is odd\n",
      "2 is even\n",
      "3 is odd\n",
      "4 is even\n",
      "5 is odd\n"
     ]
    },
    {
     "data": {
      "text/plain": [
       "1..5"
      ]
     },
     "execution_count": 40,
     "metadata": {},
     "output_type": "execute_result"
    }
   ],
   "source": [
    "(1..5).each do |number|\n",
    "  if number.even?\n",
    "    puts \"#{number} is even\"\n",
    "  else\n",
    "    puts \"#{number} is odd\"\n",
    "  end\n",
    "end"
   ]
  },
  {
   "cell_type": "code",
   "execution_count": 41,
   "metadata": {
    "scrolled": true
   },
   "outputs": [
    {
     "data": {
      "text/plain": [
       "[3, 6, 9, 12, 15, 18, 21, 24, 27, 30]"
      ]
     },
     "execution_count": 41,
     "metadata": {},
     "output_type": "execute_result"
    }
   ],
   "source": [
    "(1..10).map { |number| number * 3 }"
   ]
  },
  {
   "cell_type": "markdown",
   "metadata": {},
   "source": [
    "#### `&:message`\n",
    "引数をひとつ取って、その引数に対して引数なしにメッセージを送るブロックはよく出てきます。\n",
    "`{ |object| object. message }`が簡潔に書けるように短縮表現`&:message`があります。"
   ]
  },
  {
   "cell_type": "code",
   "execution_count": 42,
   "metadata": {},
   "outputs": [
    {
     "data": {
      "text/plain": [
       "[2, 4, 6, 8, 10]"
      ]
     },
     "execution_count": 42,
     "metadata": {},
     "output_type": "execute_result"
    }
   ],
   "source": [
    "(1..10).select(&:even?)"
   ]
  },
  {
   "cell_type": "code",
   "execution_count": 43,
   "metadata": {
    "scrolled": true
   },
   "outputs": [
    {
     "data": {
      "text/plain": [
       "[\"ONE\", \"TWO\", \"THREE\"]"
      ]
     },
     "execution_count": 43,
     "metadata": {},
     "output_type": "execute_result"
    }
   ],
   "source": [
    "['one', 'two', 'three'].map(&:upcase)"
   ]
  },
  {
   "cell_type": "markdown",
   "metadata": {},
   "source": [
    "#### `flat_map`"
   ]
  },
  {
   "cell_type": "code",
   "execution_count": 44,
   "metadata": {},
   "outputs": [
    {
     "data": {
      "text/plain": [
       "[[\"o\", \"n\", \"e\"], [\"t\", \"w\", \"o\"], [\"t\", \"h\", \"r\", \"e\", \"e\"]]"
      ]
     },
     "execution_count": 44,
     "metadata": {},
     "output_type": "execute_result"
    }
   ],
   "source": [
    "['one', 'two', 'three'].map(&:chars)"
   ]
  },
  {
   "cell_type": "code",
   "execution_count": 45,
   "metadata": {},
   "outputs": [
    {
     "data": {
      "text/plain": [
       "[\"o\", \"n\", \"e\", \"t\", \"w\", \"o\", \"t\", \"h\", \"r\", \"e\", \"e\"]"
      ]
     },
     "execution_count": 45,
     "metadata": {},
     "output_type": "execute_result"
    }
   ],
   "source": [
    "['one', 'two', 'three'].flat_map(&:chars)"
   ]
  },
  {
   "cell_type": "markdown",
   "metadata": {},
   "source": [
    "#### `inject`\n",
    "Haskellでの`fold`のこと."
   ]
  },
  {
   "cell_type": "code",
   "execution_count": 46,
   "metadata": {},
   "outputs": [
    {
     "data": {
      "text/plain": [
       "55"
      ]
     },
     "execution_count": 46,
     "metadata": {},
     "output_type": "execute_result"
    }
   ],
   "source": [
    "(1..10).inject(0) { |result, number| result + number }"
   ]
  },
  {
   "cell_type": "code",
   "execution_count": 47,
   "metadata": {},
   "outputs": [
    {
     "data": {
      "text/plain": [
       "3628800"
      ]
     },
     "execution_count": 47,
     "metadata": {},
     "output_type": "execute_result"
    }
   ],
   "source": [
    "(1..10).inject(1) { |result, number| result * number }"
   ]
  },
  {
   "cell_type": "code",
   "execution_count": 48,
   "metadata": {
    "scrolled": true
   },
   "outputs": [
    {
     "data": {
      "text/plain": [
       "\"Words: one two three\""
      ]
     },
     "execution_count": 48,
     "metadata": {},
     "output_type": "execute_result"
    }
   ],
   "source": [
    "['one', 'two', 'three'].inject('Words:') { |result, word| \"#{result} #{word}\" }"
   ]
  },
  {
   "cell_type": "markdown",
   "metadata": {},
   "source": [
    "### 1.6.8 Struct"
   ]
  },
  {
   "cell_type": "code",
   "execution_count": 49,
   "metadata": {},
   "outputs": [
    {
     "data": {
      "text/plain": [
       ":inspect"
      ]
     },
     "execution_count": 49,
     "metadata": {},
     "output_type": "execute_result"
    }
   ],
   "source": [
    "class Point < Struct.new(:x, :y)\n",
    "  def +(other_point)\n",
    "    Point.new(x + other_point.x, y + other_point.y)\n",
    "  end\n",
    "  def inspect\n",
    "    \"#<Point (#{x}, #{y})>\"\n",
    "  end\n",
    "end"
   ]
  },
  {
   "cell_type": "code",
   "execution_count": 50,
   "metadata": {},
   "outputs": [
    {
     "data": {
      "text/plain": [
       "#<Point (2, 3)>"
      ]
     },
     "execution_count": 50,
     "metadata": {},
     "output_type": "execute_result"
    }
   ],
   "source": [
    "a = Point.new(2, 3)"
   ]
  },
  {
   "cell_type": "code",
   "execution_count": 51,
   "metadata": {},
   "outputs": [
    {
     "data": {
      "text/plain": [
       "#<Point (10, 20)>"
      ]
     },
     "execution_count": 51,
     "metadata": {},
     "output_type": "execute_result"
    }
   ],
   "source": [
    "b = Point.new(10, 20)"
   ]
  },
  {
   "cell_type": "code",
   "execution_count": 52,
   "metadata": {
    "scrolled": true
   },
   "outputs": [
    {
     "data": {
      "text/plain": [
       "#<Point (12, 23)>"
      ]
     },
     "execution_count": 52,
     "metadata": {},
     "output_type": "execute_result"
    }
   ],
   "source": [
    "a + b"
   ]
  },
  {
   "cell_type": "code",
   "execution_count": 53,
   "metadata": {},
   "outputs": [
    {
     "data": {
      "text/plain": [
       "2"
      ]
     },
     "execution_count": 53,
     "metadata": {},
     "output_type": "execute_result"
    }
   ],
   "source": [
    "a.x"
   ]
  },
  {
   "cell_type": "code",
   "execution_count": 54,
   "metadata": {},
   "outputs": [
    {
     "data": {
      "text/plain": [
       "35"
      ]
     },
     "execution_count": 54,
     "metadata": {},
     "output_type": "execute_result"
    }
   ],
   "source": [
    "a.x = 35"
   ]
  },
  {
   "cell_type": "code",
   "execution_count": 55,
   "metadata": {},
   "outputs": [
    {
     "data": {
      "text/plain": [
       "#<Point (45, 23)>"
      ]
     },
     "execution_count": 55,
     "metadata": {},
     "output_type": "execute_result"
    }
   ],
   "source": [
    "a + b"
   ]
  },
  {
   "cell_type": "code",
   "execution_count": 56,
   "metadata": {},
   "outputs": [
    {
     "data": {
      "text/plain": [
       "true"
      ]
     },
     "execution_count": 56,
     "metadata": {},
     "output_type": "execute_result"
    }
   ],
   "source": [
    "Point.new(4, 5) == Point.new(4, 5)"
   ]
  },
  {
   "cell_type": "code",
   "execution_count": 57,
   "metadata": {
    "scrolled": true
   },
   "outputs": [
    {
     "data": {
      "text/plain": [
       "false"
      ]
     },
     "execution_count": 57,
     "metadata": {},
     "output_type": "execute_result"
    }
   ],
   "source": [
    "Point.new(4, 5) == Point.new(6, 7)"
   ]
  },
  {
   "cell_type": "markdown",
   "metadata": {},
   "source": [
    "### 1.6.9 モンキーパッチング\n",
    "既存のクラスやモジュールに新しいメソッドを追加できます。"
   ]
  },
  {
   "cell_type": "code",
   "execution_count": 58,
   "metadata": {},
   "outputs": [
    {
     "data": {
      "text/plain": [
       "#<Point (9, 14)>"
      ]
     },
     "execution_count": 58,
     "metadata": {},
     "output_type": "execute_result"
    }
   ],
   "source": [
    "class Point\n",
    "  def -(other_point)\n",
    "    Point.new(x - other_point.x, y - other_point.y)\n",
    "  end\n",
    "end\n",
    "Point.new(10, 15) - Point.new(1, 1)"
   ]
  },
  {
   "cell_type": "markdown",
   "metadata": {},
   "source": [
    "Rubyの組み込みクラスにもモンキーパッチできます。"
   ]
  },
  {
   "cell_type": "code",
   "execution_count": 59,
   "metadata": {
    "scrolled": true
   },
   "outputs": [
    {
     "data": {
      "text/plain": [
       "\"HELLO WORLD!!!\""
      ]
     },
     "execution_count": 59,
     "metadata": {},
     "output_type": "execute_result"
    }
   ],
   "source": [
    "class String\n",
    "  def shout\n",
    "    upcase + '!!!'\n",
    "  end\n",
    "end\n",
    "'hello world'.shout"
   ]
  },
  {
   "cell_type": "markdown",
   "metadata": {},
   "source": [
    "### 1.6.10 定数の定義\n",
    "大文字で始まる名前の変数は全て定数です。\n",
    "定数はトップレベル、もしくはクラスやモジュール内で定義できます。\n",
    "常に大文字で始めるクラス名・モジュール名とも整合的で、これらも定数です。"
   ]
  },
  {
   "cell_type": "code",
   "execution_count": 60,
   "metadata": {},
   "outputs": [
    {
     "data": {
      "text/plain": [
       "[4, 8, 15, 16, 23, 42]"
      ]
     },
     "execution_count": 60,
     "metadata": {},
     "output_type": "execute_result"
    }
   ],
   "source": [
    "NUMBERS = [4, 8, 15, 16, 23, 42]"
   ]
  },
  {
   "cell_type": "code",
   "execution_count": 61,
   "metadata": {},
   "outputs": [
    {
     "data": {
      "text/plain": [
       "42"
      ]
     },
     "execution_count": 61,
     "metadata": {},
     "output_type": "execute_result"
    }
   ],
   "source": [
    "NUMBERS.last"
   ]
  },
  {
   "cell_type": "code",
   "execution_count": 62,
   "metadata": {},
   "outputs": [
    {
     "data": {
      "text/plain": [
       "\"guten Tag\""
      ]
     },
     "execution_count": 62,
     "metadata": {},
     "output_type": "execute_result"
    }
   ],
   "source": [
    "class Greetings\n",
    "  ENGLISH = 'hello'\n",
    "  FRENCH = 'bonjour'\n",
    "  GERMAN = 'guten Tag'\n",
    "end"
   ]
  },
  {
   "cell_type": "code",
   "execution_count": 63,
   "metadata": {
    "scrolled": true
   },
   "outputs": [
    {
     "data": {
      "text/plain": [
       "\"bonjour\""
      ]
     },
     "execution_count": 63,
     "metadata": {},
     "output_type": "execute_result"
    }
   ],
   "source": [
    "Greetings::FRENCH"
   ]
  },
  {
   "cell_type": "markdown",
   "metadata": {},
   "source": [
    "### 1.6.11 定数の削除\n",
    "`Object.remove_const(:NAME)`ではなく`{Object.send(:remove_const,:NAME)`を使うのがポイントです。\n",
    "`remove_const`はプライベートメソッドでふつう`Object`クラス内部からメッセージを送らないと呼び出せないからです。\n",
    "`Object.send`でこの制限を回避できます。"
   ]
  },
  {
   "cell_type": "code",
   "execution_count": 64,
   "metadata": {},
   "outputs": [
    {
     "data": {
      "text/plain": [
       "42"
      ]
     },
     "execution_count": 64,
     "metadata": {},
     "output_type": "execute_result"
    }
   ],
   "source": [
    "NUMBERS.last"
   ]
  },
  {
   "cell_type": "code",
   "execution_count": 65,
   "metadata": {},
   "outputs": [
    {
     "name": "stdout",
     "output_type": "stream",
     "text": [
      "\"<main>:2:in `<main>'\"\n",
      "\"/var/lib/gems/2.7.0/gems/iruby-0.4.0/lib/iruby/backend.rb:44:in `eval'\"\n",
      "\"/var/lib/gems/2.7.0/gems/iruby-0.4.0/lib/iruby/backend.rb:44:in `eval'\"\n",
      "\"/var/lib/gems/2.7.0/gems/iruby-0.4.0/lib/iruby/backend.rb:12:in `eval'\"\n",
      "\"/var/lib/gems/2.7.0/gems/iruby-0.4.0/lib/iruby/kernel.rb:90:in `execute_request'\"\n",
      "\"/var/lib/gems/2.7.0/gems/iruby-0.4.0/lib/iruby/kernel.rb:49:in `dispatch'\"\n",
      "\"/var/lib/gems/2.7.0/gems/iruby-0.4.0/lib/iruby/kernel.rb:38:in `run'\"\n",
      "\"/var/lib/gems/2.7.0/gems/iruby-0.4.0/lib/iruby/command.rb:110:in `run_kernel'\"\n",
      "\"/var/lib/gems/2.7.0/gems/iruby-0.4.0/lib/iruby/command.rb:40:in `run'\"\n",
      "\"/var/lib/gems/2.7.0/gems/iruby-0.4.0/bin/iruby:5:in `<top (required)>'\"\n",
      "\"/usr/local/bin/iruby:23:in `load'\"\n",
      "\"/usr/local/bin/iruby:23:in `<main>'\"\n"
     ]
    },
    {
     "data": {
      "text/plain": [
       "[\"<main>:2:in `<main>'\", \"/var/lib/gems/2.7.0/gems/iruby-0.4.0/lib/iruby/backend.rb:44:in `eval'\", \"/var/lib/gems/2.7.0/gems/iruby-0.4.0/lib/iruby/backend.rb:44:in `eval'\", \"/var/lib/gems/2.7.0/gems/iruby-0.4.0/lib/iruby/backend.rb:12:in `eval'\", \"/var/lib/gems/2.7.0/gems/iruby-0.4.0/lib/iruby/kernel.rb:90:in `execute_request'\", \"/var/lib/gems/2.7.0/gems/iruby-0.4.0/lib/iruby/kernel.rb:49:in `dispatch'\", \"/var/lib/gems/2.7.0/gems/iruby-0.4.0/lib/iruby/kernel.rb:38:in `run'\", \"/var/lib/gems/2.7.0/gems/iruby-0.4.0/lib/iruby/command.rb:110:in `run_kernel'\", \"/var/lib/gems/2.7.0/gems/iruby-0.4.0/lib/iruby/command.rb:40:in `run'\", \"/var/lib/gems/2.7.0/gems/iruby-0.4.0/bin/iruby:5:in `<top (required)>'\", \"/usr/local/bin/iruby:23:in `load'\", \"/usr/local/bin/iruby:23:in `<main>'\"]"
      ]
     },
     "execution_count": 65,
     "metadata": {},
     "output_type": "execute_result"
    }
   ],
   "source": [
    "Object.send(:remove_const, :NUMBERS)\n",
    "begin\n",
    "  NUMBERS.last\n",
    "rescue\n",
    "  $@.map {|s| p s } \n",
    "end"
   ]
  },
  {
   "cell_type": "code",
   "execution_count": 66,
   "metadata": {},
   "outputs": [
    {
     "name": "stdout",
     "output_type": "stream",
     "text": [
      "\"<main>:3:in `<main>'\"\n",
      "\"/var/lib/gems/2.7.0/gems/iruby-0.4.0/lib/iruby/backend.rb:44:in `eval'\"\n",
      "\"/var/lib/gems/2.7.0/gems/iruby-0.4.0/lib/iruby/backend.rb:44:in `eval'\"\n",
      "\"/var/lib/gems/2.7.0/gems/iruby-0.4.0/lib/iruby/backend.rb:12:in `eval'\"\n",
      "\"/var/lib/gems/2.7.0/gems/iruby-0.4.0/lib/iruby/kernel.rb:90:in `execute_request'\"\n",
      "\"/var/lib/gems/2.7.0/gems/iruby-0.4.0/lib/iruby/kernel.rb:49:in `dispatch'\"\n",
      "\"/var/lib/gems/2.7.0/gems/iruby-0.4.0/lib/iruby/kernel.rb:38:in `run'\"\n",
      "\"/var/lib/gems/2.7.0/gems/iruby-0.4.0/lib/iruby/command.rb:110:in `run_kernel'\"\n",
      "\"/var/lib/gems/2.7.0/gems/iruby-0.4.0/lib/iruby/command.rb:40:in `run'\"\n",
      "\"/var/lib/gems/2.7.0/gems/iruby-0.4.0/bin/iruby:5:in `<top (required)>'\"\n",
      "\"/usr/local/bin/iruby:23:in `load'\"\n",
      "\"/usr/local/bin/iruby:23:in `<main>'\"\n"
     ]
    },
    {
     "data": {
      "text/plain": [
       "[\"<main>:3:in `<main>'\", \"/var/lib/gems/2.7.0/gems/iruby-0.4.0/lib/iruby/backend.rb:44:in `eval'\", \"/var/lib/gems/2.7.0/gems/iruby-0.4.0/lib/iruby/backend.rb:44:in `eval'\", \"/var/lib/gems/2.7.0/gems/iruby-0.4.0/lib/iruby/backend.rb:12:in `eval'\", \"/var/lib/gems/2.7.0/gems/iruby-0.4.0/lib/iruby/kernel.rb:90:in `execute_request'\", \"/var/lib/gems/2.7.0/gems/iruby-0.4.0/lib/iruby/kernel.rb:49:in `dispatch'\", \"/var/lib/gems/2.7.0/gems/iruby-0.4.0/lib/iruby/kernel.rb:38:in `run'\", \"/var/lib/gems/2.7.0/gems/iruby-0.4.0/lib/iruby/command.rb:110:in `run_kernel'\", \"/var/lib/gems/2.7.0/gems/iruby-0.4.0/lib/iruby/command.rb:40:in `run'\", \"/var/lib/gems/2.7.0/gems/iruby-0.4.0/bin/iruby:5:in `<top (required)>'\", \"/usr/local/bin/iruby:23:in `load'\", \"/usr/local/bin/iruby:23:in `<main>'\"]"
      ]
     },
     "execution_count": 66,
     "metadata": {},
     "output_type": "execute_result"
    }
   ],
   "source": [
    "Greetings::GERMAN\n",
    "Object.send(:remove_const, :Greetings)\n",
    "begin\n",
    "  Greetings::GERMAN\n",
    "rescue\n",
    "  $@.map {|s| p s }\n",
    "end"
   ]
  }
 ],
 "metadata": {
  "kernelspec": {
   "display_name": "Ruby 2.7.0",
   "language": "ruby",
   "name": "ruby"
  },
  "language_info": {
   "file_extension": ".rb",
   "mimetype": "application/x-ruby",
   "name": "ruby",
   "version": "2.7.0"
  }
 },
 "nbformat": 4,
 "nbformat_minor": 4
}
